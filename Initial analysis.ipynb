{
 "cells": [
  {
   "cell_type": "code",
   "execution_count": 12,
   "id": "5f9547d4",
   "metadata": {},
   "outputs": [],
   "source": [
    "import pandas as pd\n",
    "import matplotlib.pyplot as plt\n",
    "import seaborn as sns\n",
    "import numpy as np\n",
    "import scipy"
   ]
  },
  {
   "cell_type": "code",
   "execution_count": 2,
   "id": "ddaf04e2",
   "metadata": {},
   "outputs": [
    {
     "data": {
      "text/html": [
       "<div>\n",
       "<style scoped>\n",
       "    .dataframe tbody tr th:only-of-type {\n",
       "        vertical-align: middle;\n",
       "    }\n",
       "\n",
       "    .dataframe tbody tr th {\n",
       "        vertical-align: top;\n",
       "    }\n",
       "\n",
       "    .dataframe thead th {\n",
       "        text-align: right;\n",
       "    }\n",
       "</style>\n",
       "<table border=\"1\" class=\"dataframe\">\n",
       "  <thead>\n",
       "    <tr style=\"text-align: right;\">\n",
       "      <th></th>\n",
       "      <th>beer_name</th>\n",
       "      <th>beer_id</th>\n",
       "      <th>date</th>\n",
       "      <th>user_name</th>\n",
       "      <th>user_id</th>\n",
       "      <th>overall</th>\n",
       "      <th>text</th>\n",
       "    </tr>\n",
       "  </thead>\n",
       "  <tbody>\n",
       "    <tr>\n",
       "      <th>0</th>\n",
       "      <td>Régab</td>\n",
       "      <td>142544</td>\n",
       "      <td>1440064800</td>\n",
       "      <td>nmann08</td>\n",
       "      <td>nmann08.184925</td>\n",
       "      <td>3.0</td>\n",
       "      <td>From a bottle, pours a piss yellow color with ...</td>\n",
       "    </tr>\n",
       "    <tr>\n",
       "      <th>1</th>\n",
       "      <td>Barelegs Brew</td>\n",
       "      <td>19590</td>\n",
       "      <td>1235127600</td>\n",
       "      <td>StJamesGate</td>\n",
       "      <td>stjamesgate.163714</td>\n",
       "      <td>3.5</td>\n",
       "      <td>Pours pale copper with a thin head that quickl...</td>\n",
       "    </tr>\n",
       "    <tr>\n",
       "      <th>2</th>\n",
       "      <td>Barelegs Brew</td>\n",
       "      <td>19590</td>\n",
       "      <td>1142247600</td>\n",
       "      <td>mdagnew</td>\n",
       "      <td>mdagnew.19527</td>\n",
       "      <td>3.5</td>\n",
       "      <td>500ml Bottle bought from The Vintage, Antrim.....</td>\n",
       "    </tr>\n",
       "    <tr>\n",
       "      <th>3</th>\n",
       "      <td>Barelegs Brew</td>\n",
       "      <td>19590</td>\n",
       "      <td>1101898800</td>\n",
       "      <td>helloloser12345</td>\n",
       "      <td>helloloser12345.10867</td>\n",
       "      <td>4.5</td>\n",
       "      <td>Serving: 500ml brown bottlePour: Good head wit...</td>\n",
       "    </tr>\n",
       "    <tr>\n",
       "      <th>4</th>\n",
       "      <td>Barelegs Brew</td>\n",
       "      <td>19590</td>\n",
       "      <td>1093860000</td>\n",
       "      <td>cypressbob</td>\n",
       "      <td>cypressbob.3708</td>\n",
       "      <td>4.0</td>\n",
       "      <td>500ml bottlePours with a light, slightly hazy ...</td>\n",
       "    </tr>\n",
       "    <tr>\n",
       "      <th>...</th>\n",
       "      <td>...</td>\n",
       "      <td>...</td>\n",
       "      <td>...</td>\n",
       "      <td>...</td>\n",
       "      <td>...</td>\n",
       "      <td>...</td>\n",
       "      <td>...</td>\n",
       "    </tr>\n",
       "    <tr>\n",
       "      <th>2672671</th>\n",
       "      <td>Irvington Pale Ale</td>\n",
       "      <td>19141</td>\n",
       "      <td>1100516400</td>\n",
       "      <td>ecoboy</td>\n",
       "      <td>ecoboy.1641</td>\n",
       "      <td>3.5</td>\n",
       "      <td>It may say APA on this site, but talking to th...</td>\n",
       "    </tr>\n",
       "    <tr>\n",
       "      <th>2672672</th>\n",
       "      <td>Kölsch Ale</td>\n",
       "      <td>19139</td>\n",
       "      <td>1141038000</td>\n",
       "      <td>jaluria</td>\n",
       "      <td>jaluria.31362</td>\n",
       "      <td>4.0</td>\n",
       "      <td>I'll start off reviewing this beer with the fo...</td>\n",
       "    </tr>\n",
       "    <tr>\n",
       "      <th>2672673</th>\n",
       "      <td>Kölsch Ale</td>\n",
       "      <td>19139</td>\n",
       "      <td>1140346800</td>\n",
       "      <td>Dithyramb</td>\n",
       "      <td>dithyramb.4413</td>\n",
       "      <td>3.0</td>\n",
       "      <td>Served on draft at the pub. Poured a clear yel...</td>\n",
       "    </tr>\n",
       "    <tr>\n",
       "      <th>2672674</th>\n",
       "      <td>Kölsch Ale</td>\n",
       "      <td>19139</td>\n",
       "      <td>1092132000</td>\n",
       "      <td>ManekiNeko</td>\n",
       "      <td>manekineko.2654</td>\n",
       "      <td>1.5</td>\n",
       "      <td>Served on tap at the brewpub in a pint glass.A...</td>\n",
       "    </tr>\n",
       "    <tr>\n",
       "      <th>2672675</th>\n",
       "      <td>Nut Brown Ale</td>\n",
       "      <td>19140</td>\n",
       "      <td>1140346800</td>\n",
       "      <td>Dithyramb</td>\n",
       "      <td>dithyramb.4413</td>\n",
       "      <td>3.0</td>\n",
       "      <td>Dark brown brew served on tap at the brewpub. ...</td>\n",
       "    </tr>\n",
       "  </tbody>\n",
       "</table>\n",
       "<p>2672676 rows × 7 columns</p>\n",
       "</div>"
      ],
      "text/plain": [
       "                  beer_name  beer_id        date        user_name  \\\n",
       "0                     Régab   142544  1440064800          nmann08   \n",
       "1             Barelegs Brew    19590  1235127600      StJamesGate   \n",
       "2             Barelegs Brew    19590  1142247600          mdagnew   \n",
       "3             Barelegs Brew    19590  1101898800  helloloser12345   \n",
       "4             Barelegs Brew    19590  1093860000       cypressbob   \n",
       "...                     ...      ...         ...              ...   \n",
       "2672671  Irvington Pale Ale    19141  1100516400           ecoboy   \n",
       "2672672          Kölsch Ale    19139  1141038000          jaluria   \n",
       "2672673          Kölsch Ale    19139  1140346800        Dithyramb   \n",
       "2672674          Kölsch Ale    19139  1092132000       ManekiNeko   \n",
       "2672675       Nut Brown Ale    19140  1140346800        Dithyramb   \n",
       "\n",
       "                       user_id  overall  \\\n",
       "0               nmann08.184925      3.0   \n",
       "1           stjamesgate.163714      3.5   \n",
       "2                mdagnew.19527      3.5   \n",
       "3        helloloser12345.10867      4.5   \n",
       "4              cypressbob.3708      4.0   \n",
       "...                        ...      ...   \n",
       "2672671            ecoboy.1641      3.5   \n",
       "2672672          jaluria.31362      4.0   \n",
       "2672673         dithyramb.4413      3.0   \n",
       "2672674        manekineko.2654      1.5   \n",
       "2672675         dithyramb.4413      3.0   \n",
       "\n",
       "                                                      text  \n",
       "0        From a bottle, pours a piss yellow color with ...  \n",
       "1        Pours pale copper with a thin head that quickl...  \n",
       "2        500ml Bottle bought from The Vintage, Antrim.....  \n",
       "3        Serving: 500ml brown bottlePour: Good head wit...  \n",
       "4        500ml bottlePours with a light, slightly hazy ...  \n",
       "...                                                    ...  \n",
       "2672671  It may say APA on this site, but talking to th...  \n",
       "2672672  I'll start off reviewing this beer with the fo...  \n",
       "2672673  Served on draft at the pub. Poured a clear yel...  \n",
       "2672674  Served on tap at the brewpub in a pint glass.A...  \n",
       "2672675  Dark brown brew served on tap at the brewpub. ...  \n",
       "\n",
       "[2672676 rows x 7 columns]"
      ]
     },
     "execution_count": 2,
     "metadata": {},
     "output_type": "execute_result"
    }
   ],
   "source": [
    "ratings_ba = pd.read_csv('Data/ratings_ba.csv')\n",
    "ratings_ba"
   ]
  },
  {
   "cell_type": "code",
   "execution_count": 3,
   "id": "0433878a",
   "metadata": {},
   "outputs": [
    {
     "data": {
      "text/html": [
       "<div>\n",
       "<style scoped>\n",
       "    .dataframe tbody tr th:only-of-type {\n",
       "        vertical-align: middle;\n",
       "    }\n",
       "\n",
       "    .dataframe tbody tr th {\n",
       "        vertical-align: top;\n",
       "    }\n",
       "\n",
       "    .dataframe thead th {\n",
       "        text-align: right;\n",
       "    }\n",
       "</style>\n",
       "<table border=\"1\" class=\"dataframe\">\n",
       "  <thead>\n",
       "    <tr style=\"text-align: right;\">\n",
       "      <th></th>\n",
       "      <th>beer_name</th>\n",
       "      <th>beer_id</th>\n",
       "      <th>date</th>\n",
       "      <th>user_name</th>\n",
       "      <th>user_id</th>\n",
       "      <th>overall</th>\n",
       "      <th>text</th>\n",
       "    </tr>\n",
       "  </thead>\n",
       "  <tbody>\n",
       "    <tr>\n",
       "      <th>0</th>\n",
       "      <td>33 Export (Gabon)</td>\n",
       "      <td>410549</td>\n",
       "      <td>1461664800</td>\n",
       "      <td>Manslow</td>\n",
       "      <td>175852</td>\n",
       "      <td>8</td>\n",
       "      <td>Puszka 0,33l dzięki Christoph . Kolor jasnozło...</td>\n",
       "    </tr>\n",
       "    <tr>\n",
       "      <th>1</th>\n",
       "      <td>Castel Beer (Gabon)</td>\n",
       "      <td>105273</td>\n",
       "      <td>1487329200</td>\n",
       "      <td>MAGICuenca91</td>\n",
       "      <td>442761</td>\n",
       "      <td>8</td>\n",
       "      <td>Cerveza pale lager gabonesa. MÃ¡s floja que la...</td>\n",
       "    </tr>\n",
       "    <tr>\n",
       "      <th>2</th>\n",
       "      <td>Castel Beer (Gabon)</td>\n",
       "      <td>105273</td>\n",
       "      <td>1466762400</td>\n",
       "      <td>Sibarh</td>\n",
       "      <td>288889</td>\n",
       "      <td>5</td>\n",
       "      <td>Kolor- złoty, klarowny. Piana - drobna, średni...</td>\n",
       "    </tr>\n",
       "    <tr>\n",
       "      <th>3</th>\n",
       "      <td>Castel Beer (Gabon)</td>\n",
       "      <td>105273</td>\n",
       "      <td>1451646000</td>\n",
       "      <td>fombe89</td>\n",
       "      <td>250510</td>\n",
       "      <td>5</td>\n",
       "      <td>Botella, de GabÃ³n regalo familiar.31/01/2015C...</td>\n",
       "    </tr>\n",
       "    <tr>\n",
       "      <th>4</th>\n",
       "      <td>Castel Beer (Gabon)</td>\n",
       "      <td>105273</td>\n",
       "      <td>1445594400</td>\n",
       "      <td>kevnic2008</td>\n",
       "      <td>122778</td>\n",
       "      <td>7</td>\n",
       "      <td>Many thanks for this beer to Erzengel. Pours l...</td>\n",
       "    </tr>\n",
       "    <tr>\n",
       "      <th>...</th>\n",
       "      <td>...</td>\n",
       "      <td>...</td>\n",
       "      <td>...</td>\n",
       "      <td>...</td>\n",
       "      <td>...</td>\n",
       "      <td>...</td>\n",
       "      <td>...</td>\n",
       "    </tr>\n",
       "    <tr>\n",
       "      <th>7122069</th>\n",
       "      <td>Svejk Blonde</td>\n",
       "      <td>220897</td>\n",
       "      <td>1411034400</td>\n",
       "      <td>Travlr</td>\n",
       "      <td>83882</td>\n",
       "      <td>10</td>\n",
       "      <td>Draft at the source. Clear golden color, fluff...</td>\n",
       "    </tr>\n",
       "    <tr>\n",
       "      <th>7122070</th>\n",
       "      <td>Svejk Blonde</td>\n",
       "      <td>220897</td>\n",
       "      <td>1385895600</td>\n",
       "      <td>TBone</td>\n",
       "      <td>10233</td>\n",
       "      <td>10</td>\n",
       "      <td>Tap @brewpub, TiraneClear golden color, good c...</td>\n",
       "    </tr>\n",
       "    <tr>\n",
       "      <th>7122071</th>\n",
       "      <td>Svejk Dark</td>\n",
       "      <td>220898</td>\n",
       "      <td>1415098800</td>\n",
       "      <td>Rob_D_UK</td>\n",
       "      <td>257161</td>\n",
       "      <td>9</td>\n",
       "      <td>In their beer garden after a walking tour arou...</td>\n",
       "    </tr>\n",
       "    <tr>\n",
       "      <th>7122072</th>\n",
       "      <td>Svejk Dark</td>\n",
       "      <td>220898</td>\n",
       "      <td>1410861600</td>\n",
       "      <td>Travlr</td>\n",
       "      <td>83882</td>\n",
       "      <td>6</td>\n",
       "      <td>Draft at the source. Hazy maroon color, tan he...</td>\n",
       "    </tr>\n",
       "    <tr>\n",
       "      <th>7122073</th>\n",
       "      <td>Svejk Dark</td>\n",
       "      <td>220898</td>\n",
       "      <td>1385895600</td>\n",
       "      <td>TBone</td>\n",
       "      <td>10233</td>\n",
       "      <td>8</td>\n",
       "      <td>Tap @brewpub, TiraneDark brown color, nice cre...</td>\n",
       "    </tr>\n",
       "  </tbody>\n",
       "</table>\n",
       "<p>7122074 rows × 7 columns</p>\n",
       "</div>"
      ],
      "text/plain": [
       "                   beer_name  beer_id        date     user_name  user_id  \\\n",
       "0          33 Export (Gabon)   410549  1461664800       Manslow   175852   \n",
       "1        Castel Beer (Gabon)   105273  1487329200  MAGICuenca91   442761   \n",
       "2        Castel Beer (Gabon)   105273  1466762400        Sibarh   288889   \n",
       "3        Castel Beer (Gabon)   105273  1451646000       fombe89   250510   \n",
       "4        Castel Beer (Gabon)   105273  1445594400    kevnic2008   122778   \n",
       "...                      ...      ...         ...           ...      ...   \n",
       "7122069         Svejk Blonde   220897  1411034400        Travlr    83882   \n",
       "7122070         Svejk Blonde   220897  1385895600         TBone    10233   \n",
       "7122071           Svejk Dark   220898  1415098800      Rob_D_UK   257161   \n",
       "7122072           Svejk Dark   220898  1410861600        Travlr    83882   \n",
       "7122073           Svejk Dark   220898  1385895600         TBone    10233   \n",
       "\n",
       "         overall                                               text  \n",
       "0              8  Puszka 0,33l dzięki Christoph . Kolor jasnozło...  \n",
       "1              8  Cerveza pale lager gabonesa. MÃ¡s floja que la...  \n",
       "2              5  Kolor- złoty, klarowny. Piana - drobna, średni...  \n",
       "3              5  Botella, de GabÃ³n regalo familiar.31/01/2015C...  \n",
       "4              7  Many thanks for this beer to Erzengel. Pours l...  \n",
       "...          ...                                                ...  \n",
       "7122069       10  Draft at the source. Clear golden color, fluff...  \n",
       "7122070       10  Tap @brewpub, TiraneClear golden color, good c...  \n",
       "7122071        9  In their beer garden after a walking tour arou...  \n",
       "7122072        6  Draft at the source. Hazy maroon color, tan he...  \n",
       "7122073        8  Tap @brewpub, TiraneDark brown color, nice cre...  \n",
       "\n",
       "[7122074 rows x 7 columns]"
      ]
     },
     "execution_count": 3,
     "metadata": {},
     "output_type": "execute_result"
    }
   ],
   "source": [
    "ratings_rb = pd.read_csv('Data/ratings_rb.csv')\n",
    "ratings_rb"
   ]
  },
  {
   "cell_type": "code",
   "execution_count": 19,
   "id": "47304deb",
   "metadata": {},
   "outputs": [
    {
     "data": {
      "text/plain": [
       "<AxesSubplot:>"
      ]
     },
     "execution_count": 19,
     "metadata": {},
     "output_type": "execute_result"
    },
    {
     "data": {
      "image/png": "[encoded data removed]",
      "text/plain": [
       "<Figure size 432x288 with 1 Axes>"
      ]
     },
     "metadata": {
      "needs_background": "light"
     },
     "output_type": "display_data"
    }
   ],
   "source": [
    "beers = pd.read_csv('Data/RateBeer/beers.csv')\n",
    "beers['nbr_ratings'].hist(log=True, bins=30 )"
   ]
  },
  {
   "cell_type": "code",
   "execution_count": null,
   "id": "fb0ade46",
   "metadata": {},
   "outputs": [
    {
     "name": "stderr",
     "output_type": "stream",
     "text": [
      "<ipython-input-17-34436f456faf>:1: DtypeWarning: Columns (4) have mixed types. Specify dtype option on import or set low_memory=False.\n",
      "  ratings = pd.read_csv('Data/ratings.csv')\n"
     ]
    }
   ],
   "source": [
    "# ratings = pd.read_csv('Data/ratings.csv')\n",
    "# ratings"
   ]
  },
  {
   "cell_type": "markdown",
   "id": "a7c50021",
   "metadata": {},
   "source": [
    "# Ratings distribution"
   ]
  },
  {
   "cell_type": "code",
   "execution_count": 4,
   "id": "c66c2852",
   "metadata": {},
   "outputs": [
    {
     "data": {
      "text/plain": [
       "<matplotlib.legend.Legend at 0x7f5c0b2d7910>"
      ]
     },
     "execution_count": 4,
     "metadata": {},
     "output_type": "execute_result"
    },
    {
     "data": {
      "image/png": "[encoded data removed]",
      "text/plain": [
       "<Figure size 432x288 with 1 Axes>"
      ]
     },
     "metadata": {
      "needs_background": "light"
     },
     "output_type": "display_data"
    }
   ],
   "source": [
    "plt.hist(ratings_rb['overall'], density=True, label='RateBeer', alpha=0.5, rwidth=.9 )\n",
    "plt.hist(ratings_ba['overall'], density=True, label='BeerAdvocate', alpha=0.5, rwidth=.9)\n",
    "#plt.hist(overall_merged, density=True, label='together', histtype='step')\n",
    "plt.legend()"
   ]
  },
  {
   "cell_type": "code",
   "execution_count": 7,
   "id": "47c657ec",
   "metadata": {},
   "outputs": [
    {
     "data": {
      "text/plain": [
       "<matplotlib.legend.Legend at 0x7f5c0b2cba00>"
      ]
     },
     "execution_count": 7,
     "metadata": {},
     "output_type": "execute_result"
    },
    {
     "data": {
      "image/png": "[encoded data removed]",
      "text/plain": [
       "<Figure size 432x288 with 1 Axes>"
      ]
     },
     "metadata": {
      "needs_background": "light"
     },
     "output_type": "display_data"
    }
   ],
   "source": [
    "#divide RB by 4 \n",
    "plt.hist(ratings_rb['overall']/4, density=True, label='RateBeer', alpha=0.5)\n",
    "plt.hist(ratings_ba['overall'], density=True, label='BeerAdvocate', alpha=0.5)\n",
    "#plt.hist(overall_merged, density=True, label='together', histtype='step')\n",
    "plt.legend()"
   ]
  },
  {
   "cell_type": "code",
   "execution_count": 13,
   "id": "3dc48b45",
   "metadata": {},
   "outputs": [
    {
     "data": {
      "text/plain": [
       "Ttest_indResult(statistic=-995.3389223646539, pvalue=0.0)"
      ]
     },
     "execution_count": 13,
     "metadata": {},
     "output_type": "execute_result"
    }
   ],
   "source": [
    "scipy.stats.ttest_ind(ratings_rb['overall']/4, ratings_ba['overall'])"
   ]
  },
  {
   "cell_type": "markdown",
   "id": "948d092c",
   "metadata": {},
   "source": [
    "We can conclude we should treat them separately since they don't seem to be from the same distribution"
   ]
  },
  {
   "cell_type": "code",
   "execution_count": 15,
   "id": "2789c087",
   "metadata": {},
   "outputs": [
    {
     "name": "stdout",
     "output_type": "stream",
     "text": [
      "Skew:\n",
      "RateBeer       -1.000105\n",
      "BeerAdvocate   -1.090974\n",
      "dtype: float64\n"
     ]
    },
    {
     "data": {
      "text/html": [
       "<div>\n",
       "<style scoped>\n",
       "    .dataframe tbody tr th:only-of-type {\n",
       "        vertical-align: middle;\n",
       "    }\n",
       "\n",
       "    .dataframe tbody tr th {\n",
       "        vertical-align: top;\n",
       "    }\n",
       "\n",
       "    .dataframe thead th {\n",
       "        text-align: right;\n",
       "    }\n",
       "</style>\n",
       "<table border=\"1\" class=\"dataframe\">\n",
       "  <thead>\n",
       "    <tr style=\"text-align: right;\">\n",
       "      <th></th>\n",
       "      <th>RateBeer</th>\n",
       "      <th>BeerAdvocate</th>\n",
       "    </tr>\n",
       "  </thead>\n",
       "  <tbody>\n",
       "    <tr>\n",
       "      <th>count</th>\n",
       "      <td>7.122074e+06</td>\n",
       "      <td>2.672676e+06</td>\n",
       "    </tr>\n",
       "    <tr>\n",
       "      <th>mean</th>\n",
       "      <td>3.303826e+00</td>\n",
       "      <td>3.846609e+00</td>\n",
       "    </tr>\n",
       "    <tr>\n",
       "      <th>std</th>\n",
       "      <td>7.880102e-01</td>\n",
       "      <td>6.806139e-01</td>\n",
       "    </tr>\n",
       "    <tr>\n",
       "      <th>min</th>\n",
       "      <td>2.500000e-01</td>\n",
       "      <td>1.000000e+00</td>\n",
       "    </tr>\n",
       "    <tr>\n",
       "      <th>25%</th>\n",
       "      <td>3.000000e+00</td>\n",
       "      <td>3.500000e+00</td>\n",
       "    </tr>\n",
       "    <tr>\n",
       "      <th>50%</th>\n",
       "      <td>3.500000e+00</td>\n",
       "      <td>4.000000e+00</td>\n",
       "    </tr>\n",
       "    <tr>\n",
       "      <th>75%</th>\n",
       "      <td>3.750000e+00</td>\n",
       "      <td>4.250000e+00</td>\n",
       "    </tr>\n",
       "    <tr>\n",
       "      <th>max</th>\n",
       "      <td>5.000000e+00</td>\n",
       "      <td>5.000000e+00</td>\n",
       "    </tr>\n",
       "  </tbody>\n",
       "</table>\n",
       "</div>"
      ],
      "text/plain": [
       "           RateBeer  BeerAdvocate\n",
       "count  7.122074e+06  2.672676e+06\n",
       "mean   3.303826e+00  3.846609e+00\n",
       "std    7.880102e-01  6.806139e-01\n",
       "min    2.500000e-01  1.000000e+00\n",
       "25%    3.000000e+00  3.500000e+00\n",
       "50%    3.500000e+00  4.000000e+00\n",
       "75%    3.750000e+00  4.250000e+00\n",
       "max    5.000000e+00  5.000000e+00"
      ]
     },
     "execution_count": 15,
     "metadata": {},
     "output_type": "execute_result"
    }
   ],
   "source": [
    "overall = pd.concat([ratings_rb['overall']/4, ratings_ba['overall']], axis=1)\n",
    "overall.columns = ['RateBeer', 'BeerAdvocate']\n",
    "print('Skew:')\n",
    "print(overall.skew())\n",
    "overall.describe()"
   ]
  },
  {
   "cell_type": "markdown",
   "id": "38568aba",
   "metadata": {},
   "source": [
    "### Inter and intra beer"
   ]
  },
  {
   "cell_type": "code",
   "execution_count": 35,
   "id": "5d04a38c",
   "metadata": {},
   "outputs": [
    {
     "data": {
      "text/plain": [
       "<matplotlib.legend.Legend at 0x7f5c087ecf10>"
      ]
     },
     "execution_count": 35,
     "metadata": {},
     "output_type": "execute_result"
    },
    {
     "data": {
      "image/png": "[encoded data removed]",
      "text/plain": [
       "<Figure size 1440x576 with 2 Axes>"
      ]
     },
     "metadata": {
      "needs_background": "light"
     },
     "output_type": "display_data"
    }
   ],
   "source": [
    "fig, ax = plt.subplots(figsize=(20,8), nrows=1, ncols=2)\n",
    "\n",
    "ax[0].hist(ratings_ba['overall'], density=True, label='all', alpha=0.5)\n",
    "ax[0].hist(ratings_ba.groupby(['beer_id'])['overall'].mean(), density=True, label='grouped by beer', alpha=0.5)\n",
    "ax[0].legend()\n",
    "\n",
    "\n",
    "ax[1].hist(ratings_rb['overall'], density=True, label='all', alpha=0.5)\n",
    "ax[1].hist(ratings_rb.groupby(['beer_id'])['overall'].mean(), density=True, label='grouped by beer', alpha=0.5)\n",
    "ax[1].legend()"
   ]
  },
  {
   "cell_type": "code",
   "execution_count": 39,
   "id": "1876d10e",
   "metadata": {},
   "outputs": [
    {
     "name": "stdout",
     "output_type": "stream",
     "text": [
      "mean.median(), mean.mean()\n",
      "3.8 3.734276390910674\n"
     ]
    }
   ],
   "source": [
    "print('mean.median(), mean.mean()')\n",
    "print(ratings_ba.groupby(['beer_id'])['overall'].mean().median(), ratings_ba.groupby(['beer_id'])['overall'].mean().mean())"
   ]
  },
  {
   "cell_type": "code",
   "execution_count": 40,
   "id": "14f476b7",
   "metadata": {},
   "outputs": [
    {
     "name": "stdout",
     "output_type": "stream",
     "text": [
      "std.median(), std.mean()\n",
      "0.41669354665301606 0.4558683174106973\n"
     ]
    }
   ],
   "source": [
    "print('std.median(), std.mean()')\n",
    "print(ratings_ba.groupby(['beer_id'])['overall'].std().median(), ratings_ba.groupby(['beer_id'])['overall'].std().mean())"
   ]
  },
  {
   "cell_type": "markdown",
   "id": "0065abae",
   "metadata": {},
   "source": [
    "### Date"
   ]
  },
  {
   "cell_type": "code",
   "execution_count": 44,
   "id": "c2a1caa4",
   "metadata": {},
   "outputs": [
    {
     "data": {
      "text/plain": [
       "<matplotlib.legend.Legend at 0x7f5c088ceaf0>"
      ]
     },
     "execution_count": 44,
     "metadata": {},
     "output_type": "execute_result"
    },
    {
     "data": {
      "image/png": "[encoded data removed]",
      "text/plain": [
       "<Figure size 432x288 with 1 Axes>"
      ]
     },
     "metadata": {
      "needs_background": "light"
     },
     "output_type": "display_data"
    }
   ],
   "source": [
    "plt.hist(ratings_ba['date']-ratings_ba['date'].min(), density=True, alpha=0.5, label='BeerAdvocate')\n",
    "plt.hist(ratings_rb['date']-ratings_rb['date'].min(), density=True, alpha=0.5, label='RateBeer')\n",
    "plt.legend()"
   ]
  },
  {
   "cell_type": "markdown",
   "id": "19c2b2fb",
   "metadata": {},
   "source": [
    "# Users"
   ]
  },
  {
   "cell_type": "markdown",
   "id": "e18fd2b2",
   "metadata": {},
   "source": [
    "### Number of reviews"
   ]
  },
  {
   "cell_type": "code",
   "execution_count": 21,
   "id": "cf004cc5",
   "metadata": {},
   "outputs": [
    {
     "data": {
      "text/html": [
       "<div>\n",
       "<style scoped>\n",
       "    .dataframe tbody tr th:only-of-type {\n",
       "        vertical-align: middle;\n",
       "    }\n",
       "\n",
       "    .dataframe tbody tr th {\n",
       "        vertical-align: top;\n",
       "    }\n",
       "\n",
       "    .dataframe thead th {\n",
       "        text-align: right;\n",
       "    }\n",
       "</style>\n",
       "<table border=\"1\" class=\"dataframe\">\n",
       "  <thead>\n",
       "    <tr style=\"text-align: right;\">\n",
       "      <th></th>\n",
       "      <th>nbr_ratings</th>\n",
       "      <th>nbr_reviews</th>\n",
       "      <th>user_id</th>\n",
       "      <th>user_name</th>\n",
       "      <th>joined</th>\n",
       "      <th>location</th>\n",
       "    </tr>\n",
       "  </thead>\n",
       "  <tbody>\n",
       "    <tr>\n",
       "      <th>0</th>\n",
       "      <td>7820</td>\n",
       "      <td>465</td>\n",
       "      <td>nmann08.184925</td>\n",
       "      <td>nmann08</td>\n",
       "      <td>1.199704e+09</td>\n",
       "      <td>United States, Washington</td>\n",
       "    </tr>\n",
       "    <tr>\n",
       "      <th>1</th>\n",
       "      <td>2521</td>\n",
       "      <td>2504</td>\n",
       "      <td>stjamesgate.163714</td>\n",
       "      <td>StJamesGate</td>\n",
       "      <td>1.191838e+09</td>\n",
       "      <td>United States, New York</td>\n",
       "    </tr>\n",
       "    <tr>\n",
       "      <th>2</th>\n",
       "      <td>1797</td>\n",
       "      <td>1143</td>\n",
       "      <td>mdagnew.19527</td>\n",
       "      <td>mdagnew</td>\n",
       "      <td>1.116410e+09</td>\n",
       "      <td>Northern Ireland</td>\n",
       "    </tr>\n",
       "    <tr>\n",
       "      <th>3</th>\n",
       "      <td>31</td>\n",
       "      <td>31</td>\n",
       "      <td>helloloser12345.10867</td>\n",
       "      <td>helloloser12345</td>\n",
       "      <td>1.101380e+09</td>\n",
       "      <td>Northern Ireland</td>\n",
       "    </tr>\n",
       "    <tr>\n",
       "      <th>4</th>\n",
       "      <td>604</td>\n",
       "      <td>604</td>\n",
       "      <td>cypressbob.3708</td>\n",
       "      <td>cypressbob</td>\n",
       "      <td>1.069326e+09</td>\n",
       "      <td>Northern Ireland</td>\n",
       "    </tr>\n",
       "    <tr>\n",
       "      <th>...</th>\n",
       "      <td>...</td>\n",
       "      <td>...</td>\n",
       "      <td>...</td>\n",
       "      <td>...</td>\n",
       "      <td>...</td>\n",
       "      <td>...</td>\n",
       "    </tr>\n",
       "    <tr>\n",
       "      <th>153699</th>\n",
       "      <td>1</td>\n",
       "      <td>1</td>\n",
       "      <td>everman.532342</td>\n",
       "      <td>Everman</td>\n",
       "      <td>1.291115e+09</td>\n",
       "      <td>United States, California</td>\n",
       "    </tr>\n",
       "    <tr>\n",
       "      <th>153700</th>\n",
       "      <td>1</td>\n",
       "      <td>1</td>\n",
       "      <td>justin0001.352175</td>\n",
       "      <td>Justin0001</td>\n",
       "      <td>1.248343e+09</td>\n",
       "      <td>United States, California</td>\n",
       "    </tr>\n",
       "    <tr>\n",
       "      <th>153701</th>\n",
       "      <td>1</td>\n",
       "      <td>0</td>\n",
       "      <td>kyungsup.982216</td>\n",
       "      <td>Kyungsup</td>\n",
       "      <td>1.430561e+09</td>\n",
       "      <td>NaN</td>\n",
       "    </tr>\n",
       "    <tr>\n",
       "      <th>153702</th>\n",
       "      <td>1</td>\n",
       "      <td>1</td>\n",
       "      <td>joetex.800347</td>\n",
       "      <td>JoeTex</td>\n",
       "      <td>1.400234e+09</td>\n",
       "      <td>United States, California</td>\n",
       "    </tr>\n",
       "    <tr>\n",
       "      <th>153703</th>\n",
       "      <td>1</td>\n",
       "      <td>1</td>\n",
       "      <td>alexmatt86.313751</td>\n",
       "      <td>Alexmatt86</td>\n",
       "      <td>1.238321e+09</td>\n",
       "      <td>United States, California</td>\n",
       "    </tr>\n",
       "  </tbody>\n",
       "</table>\n",
       "<p>153704 rows × 6 columns</p>\n",
       "</div>"
      ],
      "text/plain": [
       "        nbr_ratings  nbr_reviews                user_id        user_name  \\\n",
       "0              7820          465         nmann08.184925          nmann08   \n",
       "1              2521         2504     stjamesgate.163714      StJamesGate   \n",
       "2              1797         1143          mdagnew.19527          mdagnew   \n",
       "3                31           31  helloloser12345.10867  helloloser12345   \n",
       "4               604          604        cypressbob.3708       cypressbob   \n",
       "...             ...          ...                    ...              ...   \n",
       "153699            1            1         everman.532342          Everman   \n",
       "153700            1            1      justin0001.352175       Justin0001   \n",
       "153701            1            0        kyungsup.982216         Kyungsup   \n",
       "153702            1            1          joetex.800347           JoeTex   \n",
       "153703            1            1      alexmatt86.313751       Alexmatt86   \n",
       "\n",
       "              joined                   location  \n",
       "0       1.199704e+09  United States, Washington  \n",
       "1       1.191838e+09    United States, New York  \n",
       "2       1.116410e+09           Northern Ireland  \n",
       "3       1.101380e+09           Northern Ireland  \n",
       "4       1.069326e+09           Northern Ireland  \n",
       "...              ...                        ...  \n",
       "153699  1.291115e+09  United States, California  \n",
       "153700  1.248343e+09  United States, California  \n",
       "153701  1.430561e+09                        NaN  \n",
       "153702  1.400234e+09  United States, California  \n",
       "153703  1.238321e+09  United States, California  \n",
       "\n",
       "[153704 rows x 6 columns]"
      ]
     },
     "execution_count": 21,
     "metadata": {},
     "output_type": "execute_result"
    }
   ],
   "source": [
    "users_ba = pd.read_csv('Data/BeerAdvocate/users.csv')\n",
    "users_ba"
   ]
  },
  {
   "cell_type": "code",
   "execution_count": 22,
   "id": "05009afa",
   "metadata": {},
   "outputs": [
    {
     "data": {
      "text/html": [
       "<div>\n",
       "<style scoped>\n",
       "    .dataframe tbody tr th:only-of-type {\n",
       "        vertical-align: middle;\n",
       "    }\n",
       "\n",
       "    .dataframe tbody tr th {\n",
       "        vertical-align: top;\n",
       "    }\n",
       "\n",
       "    .dataframe thead th {\n",
       "        text-align: right;\n",
       "    }\n",
       "</style>\n",
       "<table border=\"1\" class=\"dataframe\">\n",
       "  <thead>\n",
       "    <tr style=\"text-align: right;\">\n",
       "      <th></th>\n",
       "      <th>nbr_ratings</th>\n",
       "      <th>user_id</th>\n",
       "      <th>user_name</th>\n",
       "      <th>joined</th>\n",
       "      <th>location</th>\n",
       "    </tr>\n",
       "  </thead>\n",
       "  <tbody>\n",
       "    <tr>\n",
       "      <th>0</th>\n",
       "      <td>1890</td>\n",
       "      <td>175852</td>\n",
       "      <td>Manslow</td>\n",
       "      <td>1.337508e+09</td>\n",
       "      <td>Poland</td>\n",
       "    </tr>\n",
       "    <tr>\n",
       "      <th>1</th>\n",
       "      <td>89</td>\n",
       "      <td>442761</td>\n",
       "      <td>MAGICuenca91</td>\n",
       "      <td>1.484046e+09</td>\n",
       "      <td>Spain</td>\n",
       "    </tr>\n",
       "    <tr>\n",
       "      <th>2</th>\n",
       "      <td>169</td>\n",
       "      <td>288889</td>\n",
       "      <td>Sibarh</td>\n",
       "      <td>1.384600e+09</td>\n",
       "      <td>Poland</td>\n",
       "    </tr>\n",
       "    <tr>\n",
       "      <th>3</th>\n",
       "      <td>3371</td>\n",
       "      <td>250510</td>\n",
       "      <td>fombe89</td>\n",
       "      <td>1.363950e+09</td>\n",
       "      <td>Spain</td>\n",
       "    </tr>\n",
       "    <tr>\n",
       "      <th>4</th>\n",
       "      <td>13043</td>\n",
       "      <td>122778</td>\n",
       "      <td>kevnic2008</td>\n",
       "      <td>1.296644e+09</td>\n",
       "      <td>Germany</td>\n",
       "    </tr>\n",
       "    <tr>\n",
       "      <th>...</th>\n",
       "      <td>...</td>\n",
       "      <td>...</td>\n",
       "      <td>...</td>\n",
       "      <td>...</td>\n",
       "      <td>...</td>\n",
       "    </tr>\n",
       "    <tr>\n",
       "      <th>70169</th>\n",
       "      <td>1</td>\n",
       "      <td>134893</td>\n",
       "      <td>stamfordbus</td>\n",
       "      <td>1.315217e+09</td>\n",
       "      <td>England</td>\n",
       "    </tr>\n",
       "    <tr>\n",
       "      <th>70170</th>\n",
       "      <td>1</td>\n",
       "      <td>327816</td>\n",
       "      <td>fobia405</td>\n",
       "      <td>1.406282e+09</td>\n",
       "      <td>Belgium</td>\n",
       "    </tr>\n",
       "    <tr>\n",
       "      <th>70171</th>\n",
       "      <td>1</td>\n",
       "      <td>183139</td>\n",
       "      <td>junkin</td>\n",
       "      <td>1.339841e+09</td>\n",
       "      <td>NaN</td>\n",
       "    </tr>\n",
       "    <tr>\n",
       "      <th>70172</th>\n",
       "      <td>3</td>\n",
       "      <td>82020</td>\n",
       "      <td>klesidra</td>\n",
       "      <td>1.222250e+09</td>\n",
       "      <td>Slovenia</td>\n",
       "    </tr>\n",
       "    <tr>\n",
       "      <th>70173</th>\n",
       "      <td>1</td>\n",
       "      <td>48123</td>\n",
       "      <td>cathrinea</td>\n",
       "      <td>1.168859e+09</td>\n",
       "      <td>United States, Virginia</td>\n",
       "    </tr>\n",
       "  </tbody>\n",
       "</table>\n",
       "<p>70174 rows × 5 columns</p>\n",
       "</div>"
      ],
      "text/plain": [
       "       nbr_ratings  user_id     user_name        joined  \\\n",
       "0             1890   175852       Manslow  1.337508e+09   \n",
       "1               89   442761  MAGICuenca91  1.484046e+09   \n",
       "2              169   288889        Sibarh  1.384600e+09   \n",
       "3             3371   250510       fombe89  1.363950e+09   \n",
       "4            13043   122778    kevnic2008  1.296644e+09   \n",
       "...            ...      ...           ...           ...   \n",
       "70169            1   134893   stamfordbus  1.315217e+09   \n",
       "70170            1   327816      fobia405  1.406282e+09   \n",
       "70171            1   183139        junkin  1.339841e+09   \n",
       "70172            3    82020      klesidra  1.222250e+09   \n",
       "70173            1    48123     cathrinea  1.168859e+09   \n",
       "\n",
       "                      location  \n",
       "0                       Poland  \n",
       "1                        Spain  \n",
       "2                       Poland  \n",
       "3                        Spain  \n",
       "4                      Germany  \n",
       "...                        ...  \n",
       "70169                  England  \n",
       "70170                  Belgium  \n",
       "70171                      NaN  \n",
       "70172                 Slovenia  \n",
       "70173  United States, Virginia  \n",
       "\n",
       "[70174 rows x 5 columns]"
      ]
     },
     "execution_count": 22,
     "metadata": {},
     "output_type": "execute_result"
    }
   ],
   "source": [
    "users_rb = pd.read_csv('Data/RateBeer/users.csv')\n",
    "users_rb"
   ]
  },
  {
   "cell_type": "code",
   "execution_count": 82,
   "id": "09638eef",
   "metadata": {},
   "outputs": [
    {
     "data": {
      "text/plain": [
       "<matplotlib.legend.Legend at 0x7f5b78074f70>"
      ]
     },
     "execution_count": 82,
     "metadata": {},
     "output_type": "execute_result"
    },
    {
     "data": {
      "image/png": "[encoded data removed]",
      "text/plain": [
       "<Figure size 432x288 with 1 Axes>"
      ]
     },
     "metadata": {
      "needs_background": "light"
     },
     "output_type": "display_data"
    }
   ],
   "source": [
    "bins = np.logspace(np.log10(min(users_ba['nbr_reviews'].min(), users_rb['nbr_ratings'].min())+1) ,np.log10(max((users_ba['nbr_reviews'].max(), users_rb['nbr_ratings'].max()))), 21)\n",
    "centers = [np.sqrt(bins[i]*bins[i+1]) for i in range(len(bins)-1)]\n",
    "hist_ba, edges = np.histogram(users_ba['nbr_reviews'], bins=bins, density=True)\n",
    "hist_rb, edges = np.histogram(users_rb['nbr_ratings'], bins=bins, density=True)\n",
    "\n",
    "plt.loglog(centers, hist_ba, label='BeerAdvocate')\n",
    "plt.loglog(centers, hist_rb, label='RateBeer')\n",
    "plt.legend()"
   ]
  },
  {
   "cell_type": "markdown",
   "id": "5dcb6144",
   "metadata": {},
   "source": [
    "!!! THEY ARE BOTH POWER LAWS !!!"
   ]
  },
  {
   "cell_type": "markdown",
   "id": "44bbb8d8",
   "metadata": {},
   "source": [
    "### Nationality"
   ]
  },
  {
   "cell_type": "code",
   "execution_count": 24,
   "id": "2854a2c6",
   "metadata": {},
   "outputs": [
    {
     "data": {
      "text/plain": [
       "194"
      ]
     },
     "execution_count": 24,
     "metadata": {},
     "output_type": "execute_result"
    }
   ],
   "source": [
    "users_ba['location'].nunique()"
   ]
  },
  {
   "cell_type": "code",
   "execution_count": 25,
   "id": "534932a5",
   "metadata": {},
   "outputs": [
    {
     "data": {
      "text/plain": [
       "222"
      ]
     },
     "execution_count": 25,
     "metadata": {},
     "output_type": "execute_result"
    }
   ],
   "source": [
    "users_rb['location'].nunique()"
   ]
  },
  {
   "cell_type": "markdown",
   "id": "3d5d8fc6",
   "metadata": {},
   "source": [
    "##### How much USA?"
   ]
  },
  {
   "cell_type": "code",
   "execution_count": 40,
   "id": "8d1e4ca1",
   "metadata": {},
   "outputs": [
    {
     "data": {
      "text/plain": [
       "0.7366301462551398"
      ]
     },
     "execution_count": 40,
     "metadata": {},
     "output_type": "execute_result"
    }
   ],
   "source": [
    "users_ba['location'].str.contains('United States').sum()/len(users_ba)"
   ]
  },
  {
   "cell_type": "markdown",
   "id": "bf9d0522",
   "metadata": {},
   "source": [
    "74% of all users of BeerAdvocate are from USA (we can assume a comparable percentage of the reviews as well)"
   ]
  },
  {
   "cell_type": "code",
   "execution_count": 42,
   "id": "97212597",
   "metadata": {},
   "outputs": [
    {
     "data": {
      "text/plain": [
       "0.3826915951777011"
      ]
     },
     "execution_count": 42,
     "metadata": {},
     "output_type": "execute_result"
    }
   ],
   "source": [
    "users_rb['location'].str.contains('United States').sum()/len(users_rb)"
   ]
  },
  {
   "cell_type": "markdown",
   "id": "ad367f77",
   "metadata": {},
   "source": [
    "38% of all users of RateBeer are from USA (we can assume a comparable percentage of the reviews as well)"
   ]
  },
  {
   "cell_type": "markdown",
   "id": "40f8c3ce",
   "metadata": {},
   "source": [
    "### When did they join the website"
   ]
  },
  {
   "cell_type": "code",
   "execution_count": 43,
   "id": "e4b3f632",
   "metadata": {},
   "outputs": [
    {
     "data": {
      "text/plain": [
       "<AxesSubplot:>"
      ]
     },
     "execution_count": 43,
     "metadata": {},
     "output_type": "execute_result"
    },
    {
     "data": {
      "image/png": "[encoded data removed]",
      "text/plain": [
       "<Figure size 432x288 with 1 Axes>"
      ]
     },
     "metadata": {
      "needs_background": "light"
     },
     "output_type": "display_data"
    }
   ],
   "source": [
    "users_ba['joined'].hist()"
   ]
  },
  {
   "cell_type": "code",
   "execution_count": 44,
   "id": "23929898",
   "metadata": {},
   "outputs": [
    {
     "data": {
      "text/plain": [
       "<AxesSubplot:>"
      ]
     },
     "execution_count": 44,
     "metadata": {},
     "output_type": "execute_result"
    },
    {
     "data": {
      "image/png": "[encoded data removed]",
      "text/plain": [
       "<Figure size 432x288 with 1 Axes>"
      ]
     },
     "metadata": {
      "needs_background": "light"
     },
     "output_type": "display_data"
    }
   ],
   "source": [
    "users_rb['joined'].hist()"
   ]
  },
  {
   "cell_type": "markdown",
   "id": "2b4a980a",
   "metadata": {},
   "source": [
    "# Breweries"
   ]
  },
  {
   "cell_type": "code",
   "execution_count": 45,
   "id": "db804279",
   "metadata": {},
   "outputs": [
    {
     "data": {
      "text/html": [
       "<div>\n",
       "<style scoped>\n",
       "    .dataframe tbody tr th:only-of-type {\n",
       "        vertical-align: middle;\n",
       "    }\n",
       "\n",
       "    .dataframe tbody tr th {\n",
       "        vertical-align: top;\n",
       "    }\n",
       "\n",
       "    .dataframe thead th {\n",
       "        text-align: right;\n",
       "    }\n",
       "</style>\n",
       "<table border=\"1\" class=\"dataframe\">\n",
       "  <thead>\n",
       "    <tr style=\"text-align: right;\">\n",
       "      <th></th>\n",
       "      <th>id</th>\n",
       "      <th>location</th>\n",
       "      <th>name</th>\n",
       "      <th>nbr_beers</th>\n",
       "    </tr>\n",
       "  </thead>\n",
       "  <tbody>\n",
       "    <tr>\n",
       "      <th>0</th>\n",
       "      <td>39912</td>\n",
       "      <td>Kyrgyzstan</td>\n",
       "      <td>Abdysh-Ata (Абдыш Ата)</td>\n",
       "      <td>5</td>\n",
       "    </tr>\n",
       "    <tr>\n",
       "      <th>1</th>\n",
       "      <td>39913</td>\n",
       "      <td>Kyrgyzstan</td>\n",
       "      <td>Arpa (АРПА)</td>\n",
       "      <td>1</td>\n",
       "    </tr>\n",
       "    <tr>\n",
       "      <th>2</th>\n",
       "      <td>39914</td>\n",
       "      <td>Kyrgyzstan</td>\n",
       "      <td>Bear Beer</td>\n",
       "      <td>4</td>\n",
       "    </tr>\n",
       "    <tr>\n",
       "      <th>3</th>\n",
       "      <td>39915</td>\n",
       "      <td>Kyrgyzstan</td>\n",
       "      <td>Blonder Pub</td>\n",
       "      <td>4</td>\n",
       "    </tr>\n",
       "    <tr>\n",
       "      <th>4</th>\n",
       "      <td>39916</td>\n",
       "      <td>Kyrgyzstan</td>\n",
       "      <td>Kellers Bier</td>\n",
       "      <td>2</td>\n",
       "    </tr>\n",
       "    <tr>\n",
       "      <th>...</th>\n",
       "      <td>...</td>\n",
       "      <td>...</td>\n",
       "      <td>...</td>\n",
       "      <td>...</td>\n",
       "    </tr>\n",
       "    <tr>\n",
       "      <th>16753</th>\n",
       "      <td>128</td>\n",
       "      <td>Germany</td>\n",
       "      <td>Privatbrauerei Franz Joseph Sailer</td>\n",
       "      <td>6</td>\n",
       "    </tr>\n",
       "    <tr>\n",
       "      <th>16754</th>\n",
       "      <td>5023</td>\n",
       "      <td>Aruba</td>\n",
       "      <td>Aruba Brewing</td>\n",
       "      <td>0</td>\n",
       "    </tr>\n",
       "    <tr>\n",
       "      <th>16755</th>\n",
       "      <td>1573</td>\n",
       "      <td>United States, New York</td>\n",
       "      <td>John Harvard’s Brewery &amp; Ale House</td>\n",
       "      <td>491</td>\n",
       "    </tr>\n",
       "    <tr>\n",
       "      <th>16756</th>\n",
       "      <td>16186</td>\n",
       "      <td>United States, North Carolina</td>\n",
       "      <td>Triangle Brewing Company</td>\n",
       "      <td>20</td>\n",
       "    </tr>\n",
       "    <tr>\n",
       "      <th>16757</th>\n",
       "      <td>1138</td>\n",
       "      <td>United States, Maryland</td>\n",
       "      <td>South Baltimore Brewing</td>\n",
       "      <td>0</td>\n",
       "    </tr>\n",
       "  </tbody>\n",
       "</table>\n",
       "<p>16758 rows × 4 columns</p>\n",
       "</div>"
      ],
      "text/plain": [
       "          id                       location  \\\n",
       "0      39912                     Kyrgyzstan   \n",
       "1      39913                     Kyrgyzstan   \n",
       "2      39914                     Kyrgyzstan   \n",
       "3      39915                     Kyrgyzstan   \n",
       "4      39916                     Kyrgyzstan   \n",
       "...      ...                            ...   \n",
       "16753    128                        Germany   \n",
       "16754   5023                          Aruba   \n",
       "16755   1573        United States, New York   \n",
       "16756  16186  United States, North Carolina   \n",
       "16757   1138        United States, Maryland   \n",
       "\n",
       "                                     name  nbr_beers  \n",
       "0                  Abdysh-Ata (Абдыш Ата)          5  \n",
       "1                             Arpa (АРПА)          1  \n",
       "2                               Bear Beer          4  \n",
       "3                             Blonder Pub          4  \n",
       "4                            Kellers Bier          2  \n",
       "...                                   ...        ...  \n",
       "16753  Privatbrauerei Franz Joseph Sailer          6  \n",
       "16754                       Aruba Brewing          0  \n",
       "16755  John Harvard’s Brewery & Ale House        491  \n",
       "16756            Triangle Brewing Company         20  \n",
       "16757             South Baltimore Brewing          0  \n",
       "\n",
       "[16758 rows x 4 columns]"
      ]
     },
     "execution_count": 45,
     "metadata": {},
     "output_type": "execute_result"
    }
   ],
   "source": [
    "brew_ba = pd.read_csv('Data/BeerAdvocate/breweries.csv')\n",
    "brew_ba"
   ]
  },
  {
   "cell_type": "code",
   "execution_count": 46,
   "id": "5428015a",
   "metadata": {},
   "outputs": [
    {
     "data": {
      "text/html": [
       "<div>\n",
       "<style scoped>\n",
       "    .dataframe tbody tr th:only-of-type {\n",
       "        vertical-align: middle;\n",
       "    }\n",
       "\n",
       "    .dataframe tbody tr th {\n",
       "        vertical-align: top;\n",
       "    }\n",
       "\n",
       "    .dataframe thead th {\n",
       "        text-align: right;\n",
       "    }\n",
       "</style>\n",
       "<table border=\"1\" class=\"dataframe\">\n",
       "  <thead>\n",
       "    <tr style=\"text-align: right;\">\n",
       "      <th></th>\n",
       "      <th>id</th>\n",
       "      <th>location</th>\n",
       "      <th>name</th>\n",
       "      <th>nbr_beers</th>\n",
       "    </tr>\n",
       "  </thead>\n",
       "  <tbody>\n",
       "    <tr>\n",
       "      <th>0</th>\n",
       "      <td>3198</td>\n",
       "      <td>Gabon</td>\n",
       "      <td>Sobraga</td>\n",
       "      <td>3</td>\n",
       "    </tr>\n",
       "    <tr>\n",
       "      <th>1</th>\n",
       "      <td>13538</td>\n",
       "      <td>Northern Ireland</td>\n",
       "      <td>Ards Brewing Co.</td>\n",
       "      <td>13</td>\n",
       "    </tr>\n",
       "    <tr>\n",
       "      <th>2</th>\n",
       "      <td>22304</td>\n",
       "      <td>Northern Ireland</td>\n",
       "      <td>Barrahooley Craft Brewery</td>\n",
       "      <td>4</td>\n",
       "    </tr>\n",
       "    <tr>\n",
       "      <th>3</th>\n",
       "      <td>22818</td>\n",
       "      <td>Northern Ireland</td>\n",
       "      <td>Boundary</td>\n",
       "      <td>66</td>\n",
       "    </tr>\n",
       "    <tr>\n",
       "      <th>4</th>\n",
       "      <td>24297</td>\n",
       "      <td>Northern Ireland</td>\n",
       "      <td>Brewbot Belfast</td>\n",
       "      <td>3</td>\n",
       "    </tr>\n",
       "    <tr>\n",
       "      <th>...</th>\n",
       "      <td>...</td>\n",
       "      <td>...</td>\n",
       "      <td>...</td>\n",
       "      <td>...</td>\n",
       "    </tr>\n",
       "    <tr>\n",
       "      <th>24184</th>\n",
       "      <td>28180</td>\n",
       "      <td>Albania</td>\n",
       "      <td>Shoqeria Picana</td>\n",
       "      <td>1</td>\n",
       "    </tr>\n",
       "    <tr>\n",
       "      <th>24185</th>\n",
       "      <td>1107</td>\n",
       "      <td>Albania</td>\n",
       "      <td>Stefani &amp; Co</td>\n",
       "      <td>11</td>\n",
       "    </tr>\n",
       "    <tr>\n",
       "      <th>24186</th>\n",
       "      <td>9355</td>\n",
       "      <td>Albania</td>\n",
       "      <td>Hotel Martini</td>\n",
       "      <td>1</td>\n",
       "    </tr>\n",
       "    <tr>\n",
       "      <th>24187</th>\n",
       "      <td>9928</td>\n",
       "      <td>Albania</td>\n",
       "      <td>Rozafa Brewery</td>\n",
       "      <td>1</td>\n",
       "    </tr>\n",
       "    <tr>\n",
       "      <th>24188</th>\n",
       "      <td>17155</td>\n",
       "      <td>Albania</td>\n",
       "      <td>Svejk Beer Garden</td>\n",
       "      <td>2</td>\n",
       "    </tr>\n",
       "  </tbody>\n",
       "</table>\n",
       "<p>24189 rows × 4 columns</p>\n",
       "</div>"
      ],
      "text/plain": [
       "          id          location                       name  nbr_beers\n",
       "0       3198             Gabon                    Sobraga          3\n",
       "1      13538  Northern Ireland           Ards Brewing Co.         13\n",
       "2      22304  Northern Ireland  Barrahooley Craft Brewery          4\n",
       "3      22818  Northern Ireland                   Boundary         66\n",
       "4      24297  Northern Ireland            Brewbot Belfast          3\n",
       "...      ...               ...                        ...        ...\n",
       "24184  28180           Albania            Shoqeria Picana          1\n",
       "24185   1107           Albania               Stefani & Co         11\n",
       "24186   9355           Albania              Hotel Martini          1\n",
       "24187   9928           Albania             Rozafa Brewery          1\n",
       "24188  17155           Albania          Svejk Beer Garden          2\n",
       "\n",
       "[24189 rows x 4 columns]"
      ]
     },
     "execution_count": 46,
     "metadata": {},
     "output_type": "execute_result"
    }
   ],
   "source": [
    "brew_rb = pd.read_csv('Data/RateBeer/breweries.csv')\n",
    "brew_rb"
   ]
  },
  {
   "cell_type": "markdown",
   "id": "01d3e7ba",
   "metadata": {},
   "source": [
    "### location"
   ]
  },
  {
   "cell_type": "code",
   "execution_count": 47,
   "id": "27075484",
   "metadata": {},
   "outputs": [
    {
     "data": {
      "text/plain": [
       "297"
      ]
     },
     "execution_count": 47,
     "metadata": {},
     "output_type": "execute_result"
    }
   ],
   "source": [
    "brew_ba['location'].nunique()"
   ]
  },
  {
   "cell_type": "code",
   "execution_count": 49,
   "id": "fcd12de3",
   "metadata": {},
   "outputs": [
    {
     "data": {
      "text/plain": [
       "267"
      ]
     },
     "execution_count": 49,
     "metadata": {},
     "output_type": "execute_result"
    }
   ],
   "source": [
    "brew_rb['location'].nunique()"
   ]
  },
  {
   "cell_type": "code",
   "execution_count": 52,
   "id": "a77f9bf6",
   "metadata": {},
   "outputs": [
    {
     "data": {
      "text/plain": [
       "location\n",
       "Germany                                                                     1431\n",
       "England                                                                      997\n",
       "United States, California                                                    929\n",
       "Canada                                                                       775\n",
       "United States, Washington                                                    411\n",
       "                                                                            ... \n",
       "Illinois</a>, 60614-4939, <a href=\"/place/directory/9/US/\">United States       1\n",
       "Iraq                                                                           1\n",
       "Lesotho                                                                        1\n",
       "Liberia                                                                        1\n",
       "Palau                                                                          1\n",
       "Name: id, Length: 297, dtype: int64"
      ]
     },
     "execution_count": 52,
     "metadata": {},
     "output_type": "execute_result"
    }
   ],
   "source": [
    "brew_ba.groupby(['location']).count()['id'].sort_values(ascending=False)"
   ]
  },
  {
   "cell_type": "code",
   "execution_count": 59,
   "id": "c67b806a",
   "metadata": {},
   "outputs": [
    {
     "data": {
      "text/plain": [
       "[<matplotlib.lines.Line2D at 0x7fa02e9b1c10>]"
      ]
     },
     "execution_count": 59,
     "metadata": {},
     "output_type": "execute_result"
    },
    {
     "data": {
      "image/png": "[encoded data removed]",
      "text/plain": [
       "<Figure size 432x288 with 1 Axes>"
      ]
     },
     "metadata": {
      "needs_background": "light"
     },
     "output_type": "display_data"
    }
   ],
   "source": [
    "plt.loglog(np.arange(len(brew_ba.groupby(['location']).count()['id'].sort_values(ascending=False))), brew_ba.groupby(['location']).count()['id'].sort_values(ascending=False))"
   ]
  },
  {
   "cell_type": "code",
   "execution_count": 60,
   "id": "f3df584e",
   "metadata": {},
   "outputs": [
    {
     "data": {
      "text/plain": [
       "[<matplotlib.lines.Line2D at 0x7fa02e79eee0>]"
      ]
     },
     "execution_count": 60,
     "metadata": {},
     "output_type": "execute_result"
    },
    {
     "data": {
      "image/png": "[encoded data removed]",
      "text/plain": [
       "<Figure size 432x288 with 1 Axes>"
      ]
     },
     "metadata": {
      "needs_background": "light"
     },
     "output_type": "display_data"
    }
   ],
   "source": [
    "plt.semilogy(np.arange(len(brew_ba.groupby(['location']).count()['id'].sort_values(ascending=False))), brew_ba.groupby(['location']).count()['id'].sort_values(ascending=False))"
   ]
  },
  {
   "cell_type": "markdown",
   "id": "c5cc8cca",
   "metadata": {},
   "source": [
    "It is a hybrid between power law and exponential"
   ]
  },
  {
   "cell_type": "code",
   "execution_count": null,
   "id": "a9f407d0",
   "metadata": {},
   "outputs": [],
   "source": []
  },
  {
   "cell_type": "code",
   "execution_count": null,
   "id": "11688160",
   "metadata": {},
   "outputs": [],
   "source": []
  }
 ],
 "metadata": {
  "kernelspec": {
   "display_name": "Python 3",
   "language": "python",
   "name": "python3"
  },
  "language_info": {
   "codemirror_mode": {
    "name": "ipython",
    "version": 3
   },
   "file_extension": ".py",
   "mimetype": "text/x-python",
   "name": "python",
   "nbconvert_exporter": "python",
   "pygments_lexer": "ipython3",
   "version": "3.9.12"
  }
 },
 "nbformat": 4,
 "nbformat_minor": 5
}
