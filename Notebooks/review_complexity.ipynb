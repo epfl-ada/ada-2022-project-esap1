{
 "cells": [
  {
   "cell_type": "code",
   "execution_count": 579,
   "id": "ece1ee70",
   "metadata": {},
   "outputs": [],
   "source": [
    "import pandas as pd\n",
    "import numpy as np\n",
    "import re\n",
    "import textstat\n",
    "from textblob import TextBlob\n",
    "import matplotlib.pyplot as plt\n",
    "from langdetect import detect\n",
    "import seaborn as sns"
   ]
  },
  {
   "cell_type": "code",
   "execution_count": 170,
   "id": "41afc392",
   "metadata": {
    "scrolled": false
   },
   "outputs": [
    {
     "data": {
      "text/html": [
       "<div>\n",
       "<style scoped>\n",
       "    .dataframe tbody tr th:only-of-type {\n",
       "        vertical-align: middle;\n",
       "    }\n",
       "\n",
       "    .dataframe tbody tr th {\n",
       "        vertical-align: top;\n",
       "    }\n",
       "\n",
       "    .dataframe thead th {\n",
       "        text-align: right;\n",
       "    }\n",
       "</style>\n",
       "<table border=\"1\" class=\"dataframe\">\n",
       "  <thead>\n",
       "    <tr style=\"text-align: right;\">\n",
       "      <th></th>\n",
       "      <th>beer_name</th>\n",
       "      <th>beer_id</th>\n",
       "      <th>date</th>\n",
       "      <th>user_name</th>\n",
       "      <th>user_id</th>\n",
       "      <th>overall</th>\n",
       "      <th>text</th>\n",
       "    </tr>\n",
       "  </thead>\n",
       "  <tbody>\n",
       "    <tr>\n",
       "      <th>0</th>\n",
       "      <td>Régab</td>\n",
       "      <td>142544</td>\n",
       "      <td>1440064800</td>\n",
       "      <td>nmann08</td>\n",
       "      <td>nmann08.184925</td>\n",
       "      <td>3.0</td>\n",
       "      <td>From a bottle, pours a piss yellow color with ...</td>\n",
       "    </tr>\n",
       "    <tr>\n",
       "      <th>1</th>\n",
       "      <td>Barelegs Brew</td>\n",
       "      <td>19590</td>\n",
       "      <td>1235127600</td>\n",
       "      <td>StJamesGate</td>\n",
       "      <td>stjamesgate.163714</td>\n",
       "      <td>3.5</td>\n",
       "      <td>Pours pale copper with a thin head that quickl...</td>\n",
       "    </tr>\n",
       "    <tr>\n",
       "      <th>2</th>\n",
       "      <td>Barelegs Brew</td>\n",
       "      <td>19590</td>\n",
       "      <td>1142247600</td>\n",
       "      <td>mdagnew</td>\n",
       "      <td>mdagnew.19527</td>\n",
       "      <td>3.5</td>\n",
       "      <td>500ml Bottle bought from The Vintage, Antrim.....</td>\n",
       "    </tr>\n",
       "    <tr>\n",
       "      <th>3</th>\n",
       "      <td>Barelegs Brew</td>\n",
       "      <td>19590</td>\n",
       "      <td>1101898800</td>\n",
       "      <td>helloloser12345</td>\n",
       "      <td>helloloser12345.10867</td>\n",
       "      <td>4.5</td>\n",
       "      <td>Serving: 500ml brown bottlePour: Good head wit...</td>\n",
       "    </tr>\n",
       "    <tr>\n",
       "      <th>4</th>\n",
       "      <td>Barelegs Brew</td>\n",
       "      <td>19590</td>\n",
       "      <td>1093860000</td>\n",
       "      <td>cypressbob</td>\n",
       "      <td>cypressbob.3708</td>\n",
       "      <td>4.0</td>\n",
       "      <td>500ml bottlePours with a light, slightly hazy ...</td>\n",
       "    </tr>\n",
       "    <tr>\n",
       "      <th>...</th>\n",
       "      <td>...</td>\n",
       "      <td>...</td>\n",
       "      <td>...</td>\n",
       "      <td>...</td>\n",
       "      <td>...</td>\n",
       "      <td>...</td>\n",
       "      <td>...</td>\n",
       "    </tr>\n",
       "    <tr>\n",
       "      <th>2672671</th>\n",
       "      <td>Irvington Pale Ale</td>\n",
       "      <td>19141</td>\n",
       "      <td>1100516400</td>\n",
       "      <td>ecoboy</td>\n",
       "      <td>ecoboy.1641</td>\n",
       "      <td>3.5</td>\n",
       "      <td>It may say APA on this site, but talking to th...</td>\n",
       "    </tr>\n",
       "    <tr>\n",
       "      <th>2672672</th>\n",
       "      <td>Kölsch Ale</td>\n",
       "      <td>19139</td>\n",
       "      <td>1141038000</td>\n",
       "      <td>jaluria</td>\n",
       "      <td>jaluria.31362</td>\n",
       "      <td>4.0</td>\n",
       "      <td>I'll start off reviewing this beer with the fo...</td>\n",
       "    </tr>\n",
       "    <tr>\n",
       "      <th>2672673</th>\n",
       "      <td>Kölsch Ale</td>\n",
       "      <td>19139</td>\n",
       "      <td>1140346800</td>\n",
       "      <td>Dithyramb</td>\n",
       "      <td>dithyramb.4413</td>\n",
       "      <td>3.0</td>\n",
       "      <td>Served on draft at the pub. Poured a clear yel...</td>\n",
       "    </tr>\n",
       "    <tr>\n",
       "      <th>2672674</th>\n",
       "      <td>Kölsch Ale</td>\n",
       "      <td>19139</td>\n",
       "      <td>1092132000</td>\n",
       "      <td>ManekiNeko</td>\n",
       "      <td>manekineko.2654</td>\n",
       "      <td>1.5</td>\n",
       "      <td>Served on tap at the brewpub in a pint glass.A...</td>\n",
       "    </tr>\n",
       "    <tr>\n",
       "      <th>2672675</th>\n",
       "      <td>Nut Brown Ale</td>\n",
       "      <td>19140</td>\n",
       "      <td>1140346800</td>\n",
       "      <td>Dithyramb</td>\n",
       "      <td>dithyramb.4413</td>\n",
       "      <td>3.0</td>\n",
       "      <td>Dark brown brew served on tap at the brewpub. ...</td>\n",
       "    </tr>\n",
       "  </tbody>\n",
       "</table>\n",
       "<p>2672676 rows × 7 columns</p>\n",
       "</div>"
      ],
      "text/plain": [
       "                  beer_name  beer_id        date        user_name  \\\n",
       "0                     Régab   142544  1440064800          nmann08   \n",
       "1             Barelegs Brew    19590  1235127600      StJamesGate   \n",
       "2             Barelegs Brew    19590  1142247600          mdagnew   \n",
       "3             Barelegs Brew    19590  1101898800  helloloser12345   \n",
       "4             Barelegs Brew    19590  1093860000       cypressbob   \n",
       "...                     ...      ...         ...              ...   \n",
       "2672671  Irvington Pale Ale    19141  1100516400           ecoboy   \n",
       "2672672          Kölsch Ale    19139  1141038000          jaluria   \n",
       "2672673          Kölsch Ale    19139  1140346800        Dithyramb   \n",
       "2672674          Kölsch Ale    19139  1092132000       ManekiNeko   \n",
       "2672675       Nut Brown Ale    19140  1140346800        Dithyramb   \n",
       "\n",
       "                       user_id  overall  \\\n",
       "0               nmann08.184925      3.0   \n",
       "1           stjamesgate.163714      3.5   \n",
       "2                mdagnew.19527      3.5   \n",
       "3        helloloser12345.10867      4.5   \n",
       "4              cypressbob.3708      4.0   \n",
       "...                        ...      ...   \n",
       "2672671            ecoboy.1641      3.5   \n",
       "2672672          jaluria.31362      4.0   \n",
       "2672673         dithyramb.4413      3.0   \n",
       "2672674        manekineko.2654      1.5   \n",
       "2672675         dithyramb.4413      3.0   \n",
       "\n",
       "                                                      text  \n",
       "0        From a bottle, pours a piss yellow color with ...  \n",
       "1        Pours pale copper with a thin head that quickl...  \n",
       "2        500ml Bottle bought from The Vintage, Antrim.....  \n",
       "3        Serving: 500ml brown bottlePour: Good head wit...  \n",
       "4        500ml bottlePours with a light, slightly hazy ...  \n",
       "...                                                    ...  \n",
       "2672671  It may say APA on this site, but talking to th...  \n",
       "2672672  I'll start off reviewing this beer with the fo...  \n",
       "2672673  Served on draft at the pub. Poured a clear yel...  \n",
       "2672674  Served on tap at the brewpub in a pint glass.A...  \n",
       "2672675  Dark brown brew served on tap at the brewpub. ...  \n",
       "\n",
       "[2672676 rows x 7 columns]"
      ]
     },
     "execution_count": 170,
     "metadata": {},
     "output_type": "execute_result"
    }
   ],
   "source": [
    "ratings_ba = pd.read_csv('../data/local/ratings_ba.csv', encoding=\"utf8\")\n",
    "ratings_ba"
   ]
  },
  {
   "cell_type": "markdown",
   "id": "5e9f0979",
   "metadata": {},
   "source": [
    "## Reviews analysis"
   ]
  },
  {
   "cell_type": "markdown",
   "id": "1c0215d8",
   "metadata": {},
   "source": [
    "The goal is to create a function that will take a corpus of reviews as a parameter and grade the complexity of lexicon of each review"
   ]
  },
  {
   "cell_type": "code",
   "execution_count": 533,
   "id": "47cd6d6c",
   "metadata": {},
   "outputs": [],
   "source": [
    "texts = ratings_ba['text'].sample(5000)"
   ]
  },
  {
   "cell_type": "code",
   "execution_count": 534,
   "id": "cf605a20",
   "metadata": {},
   "outputs": [
    {
     "data": {
      "text/plain": [
       "0"
      ]
     },
     "execution_count": 534,
     "metadata": {},
     "output_type": "execute_result"
    }
   ],
   "source": [
    "texts.isnull().sum()"
   ]
  },
  {
   "cell_type": "code",
   "execution_count": 535,
   "id": "6f585c23",
   "metadata": {},
   "outputs": [],
   "source": [
    "texts.dropna(inplace=True)"
   ]
  },
  {
   "cell_type": "code",
   "execution_count": 536,
   "id": "88114ee4",
   "metadata": {},
   "outputs": [
    {
     "data": {
      "text/plain": [
       "0"
      ]
     },
     "execution_count": 536,
     "metadata": {},
     "output_type": "execute_result"
    }
   ],
   "source": [
    "texts.isnull().sum()"
   ]
  },
  {
   "cell_type": "code",
   "execution_count": 537,
   "id": "e6fabc55",
   "metadata": {},
   "outputs": [],
   "source": [
    "texts = texts[texts.apply(lambda x : len(x) > 10)]"
   ]
  },
  {
   "cell_type": "code",
   "execution_count": 538,
   "id": "98c815e0",
   "metadata": {},
   "outputs": [],
   "source": [
    "language_check = texts.apply(lambda x : detect(x) != 'en')"
   ]
  },
  {
   "cell_type": "code",
   "execution_count": 539,
   "id": "9ec1db08",
   "metadata": {},
   "outputs": [
    {
     "data": {
      "text/plain": [
       "14"
      ]
     },
     "execution_count": 539,
     "metadata": {},
     "output_type": "execute_result"
    }
   ],
   "source": [
    "language_check.sum()"
   ]
  },
  {
   "cell_type": "code",
   "execution_count": 540,
   "id": "126a0829",
   "metadata": {},
   "outputs": [],
   "source": [
    "texts = texts[~language_check]"
   ]
  },
  {
   "cell_type": "code",
   "execution_count": 541,
   "id": "683acd6c",
   "metadata": {},
   "outputs": [],
   "source": [
    "language_check = texts.apply(lambda x : detect(x) != 'en')"
   ]
  },
  {
   "cell_type": "code",
   "execution_count": 542,
   "id": "ebf94ee0",
   "metadata": {},
   "outputs": [
    {
     "data": {
      "text/plain": [
       "2"
      ]
     },
     "execution_count": 542,
     "metadata": {},
     "output_type": "execute_result"
    }
   ],
   "source": [
    "language_check.sum()"
   ]
  },
  {
   "cell_type": "markdown",
   "id": "7d6827fd",
   "metadata": {},
   "source": [
    "We want to extract the complexity of the lexicon used in each review. To do this, we should first eliminate want we do not want to analyze. Let's study some random reviews. "
   ]
  },
  {
   "cell_type": "code",
   "execution_count": 543,
   "id": "6558361a",
   "metadata": {},
   "outputs": [
    {
     "data": {
      "text/plain": [
       "\"Six pack from George's deli case, always some oddball beer in there. Brewed in Rochester, NY, per the label. &quot;1060&quot; Julian date on the neck of the bottle.Pours quietly into a tulip glass, a murky chestnut brown that glints copper orange when held to the light. A finger of light tan foam rises up, it has a creamy surface texture, but doesn't remain long. Spotty froth around the edges of the glass. Sweet buttered biscuit aroma, and more than a little touch of skunky euro hops lending some grassiness.Toasted grains and specialty malt flavors, nutty and sweet. Fairly soft feel with a slight creamy texture, not bad. Flavors are a little faded and a touch bland, but that could be due to age. Medium dextrinous body, some astringency, light carb that seems to ebb away towards the end of the glass.Overall not bad, a couple bottles paired well with charcuterie from the deli.\""
      ]
     },
     "execution_count": 543,
     "metadata": {},
     "output_type": "execute_result"
    }
   ],
   "source": [
    "ratings_ba['text'][10]"
   ]
  },
  {
   "cell_type": "code",
   "execution_count": 544,
   "id": "835b8967",
   "metadata": {},
   "outputs": [
    {
     "data": {
      "text/plain": [
       "'From the U.S. brewed 12 fl. oz. bottle. Sampled on July 7, 2011. It pours an amber-red color with a thin head. The aroma is incredibly sweet with English malts and sort of fruity. The body is thin but not watered down. The taste has a vibrant sweet caramel taste but it is also somewhat dry on the finish. Maybe a tad too sweet for me but not bad.'"
      ]
     },
     "execution_count": 544,
     "metadata": {},
     "output_type": "execute_result"
    }
   ],
   "source": [
    "ratings_ba['text'][20]"
   ]
  },
  {
   "cell_type": "code",
   "execution_count": 545,
   "id": "74a2bec2",
   "metadata": {
    "scrolled": true
   },
   "outputs": [
    {
     "data": {
      "text/plain": [
       "\"This beer is a bit of an amalgam of several styles. It has the color of a Brown Ale, and the taste is somewhat of a combination of an EPA and an Irish Red.Pours chestnut brown with a moderate head that retains well and leaves significant lacing behind.Nose is malty and buttery.Flavor has an EPA-like fruitiness with the slightly dry finish of an Irish Red. Malty throughout with hints of butterscotch and molasses. Halfway through my second one there was even a light whiskey-like booziness, which was strange from a brew under 5%.Medium to full body with even carbonation; a touch prickly.Not bad; pretty solid, but I'm not sure about the drinkablility. It might get a bit old after 3 or 4, but I rarely drink that many anyway.\""
      ]
     },
     "execution_count": 545,
     "metadata": {},
     "output_type": "execute_result"
    }
   ],
   "source": [
    "ratings_ba['text'][30]"
   ]
  },
  {
   "cell_type": "markdown",
   "id": "244eb983",
   "metadata": {},
   "source": [
    "First, we clean the data to make it more readable for a text analysis library."
   ]
  },
  {
   "cell_type": "code",
   "execution_count": null,
   "id": "25a14b31",
   "metadata": {},
   "outputs": [],
   "source": []
  },
  {
   "cell_type": "code",
   "execution_count": 546,
   "id": "528e0e1c",
   "metadata": {},
   "outputs": [
    {
     "data": {
      "text/plain": [
       "array(['Piney, citric hop aroma with notes of yeast and roast malt.Poured very deep brown with good clarity. Somewhat rocky tan head with very good retention and good lacing.Citric and piney hop flavor with firm bitterness from hops and roast malt. Noticable alcohol flavor, especially in finish. Nice, big malt profile in the background. Complex finish, a mix of hop flavor, lingering bitterness, and alcohol.Medium-bodied. Rich, creamy mouthfeel. Medium-high carbonation. Smooth finish with slight alcohol warmth.Interesting beer. Definitely different than the norm. Excellent overall, but a bit too bitter. Perhaps a little bit of age will bring this beer a bit more into balance.',\n",
       "       'A: The beer is crystal clear yellow in color and has a moderate amount of visible carbonation. It poured with a thin bright white head that consistently left a thin layer of bubbles covering the surface along with some lacing running down the sides of the glass.S: There are light aromas of bready malts in the nose.T: The taste is similar to the smell and has some flavors of bready malts. There are some hints of malty sweetness and a very slight amount of bitterness.M: It feels light- to medium-bodied on the palate and has a moderate amount of carbonation.O: This beer is quite good and drinkable for being non-alcoholic and shares a lot of similarities with a German Pilsener, except that it has less bitterness and no dryness.'],\n",
       "      dtype=object)"
      ]
     },
     "execution_count": 546,
     "metadata": {},
     "output_type": "execute_result"
    }
   ],
   "source": [
    "texts[9:11].values"
   ]
  },
  {
   "cell_type": "code",
   "execution_count": 547,
   "id": "10bf2147",
   "metadata": {},
   "outputs": [],
   "source": [
    "#texts = texts.apply(lambda x: x.lower()) #= [text.lower() for text in texts]"
   ]
  },
  {
   "cell_type": "code",
   "execution_count": 548,
   "id": "28d7a944",
   "metadata": {},
   "outputs": [],
   "source": [
    "#texts[9:11].values"
   ]
  },
  {
   "cell_type": "code",
   "execution_count": 549,
   "id": "64cc8921",
   "metadata": {},
   "outputs": [],
   "source": [
    "# Remove numbers ---> Useless for complexity of lexicon\n",
    "pattern = r'[0-9]'\n",
    "texts = texts.apply(lambda x : re.sub(pattern, '', x))"
   ]
  },
  {
   "cell_type": "code",
   "execution_count": 550,
   "id": "f60b2ad4",
   "metadata": {},
   "outputs": [
    {
     "data": {
      "text/plain": [
       "array(['Piney, citric hop aroma with notes of yeast and roast malt.Poured very deep brown with good clarity. Somewhat rocky tan head with very good retention and good lacing.Citric and piney hop flavor with firm bitterness from hops and roast malt. Noticable alcohol flavor, especially in finish. Nice, big malt profile in the background. Complex finish, a mix of hop flavor, lingering bitterness, and alcohol.Medium-bodied. Rich, creamy mouthfeel. Medium-high carbonation. Smooth finish with slight alcohol warmth.Interesting beer. Definitely different than the norm. Excellent overall, but a bit too bitter. Perhaps a little bit of age will bring this beer a bit more into balance.',\n",
       "       'A: The beer is crystal clear yellow in color and has a moderate amount of visible carbonation. It poured with a thin bright white head that consistently left a thin layer of bubbles covering the surface along with some lacing running down the sides of the glass.S: There are light aromas of bready malts in the nose.T: The taste is similar to the smell and has some flavors of bready malts. There are some hints of malty sweetness and a very slight amount of bitterness.M: It feels light- to medium-bodied on the palate and has a moderate amount of carbonation.O: This beer is quite good and drinkable for being non-alcoholic and shares a lot of similarities with a German Pilsener, except that it has less bitterness and no dryness.'],\n",
       "      dtype=object)"
      ]
     },
     "execution_count": 550,
     "metadata": {},
     "output_type": "execute_result"
    }
   ],
   "source": [
    "texts[9:11].values"
   ]
  },
  {
   "cell_type": "markdown",
   "id": "2faf15d0",
   "metadata": {},
   "source": [
    "## Try to remove html encoding "
   ]
  },
  {
   "cell_type": "code",
   "execution_count": 551,
   "id": "13edab5b",
   "metadata": {},
   "outputs": [
    {
     "name": "stdout",
     "output_type": "stream",
     "text": [
      "\n",
      "\n",
      "  \n",
      "    Apple\n",
      "    Banana\n",
      "    Kiwi\n",
      "  \n",
      "\n",
      "\n"
     ]
    }
   ],
   "source": [
    "from html.parser import HTMLParser\n",
    "\n",
    "\n",
    "class HTMLTagsRemover(HTMLParser):\n",
    "    def __init__(self):\n",
    "        super().__init__(convert_charrefs=False)\n",
    "        self.reset()\n",
    "        self.convert_charrefs = True\n",
    "        self.fed = []\n",
    "\n",
    "    def handle_data(self, data):\n",
    "        self.fed.append(data)\n",
    "\n",
    "    def handle_entityref(self, name):\n",
    "        self.fed.append(f'&{name};')\n",
    "\n",
    "    def handle_charref(self, name):\n",
    "        self.fed.append(f'&#{name};')\n",
    "\n",
    "    def get_data(self):\n",
    "        return ''.join(self.fed)\n",
    "\n",
    "\n",
    "def remove_html_tags(value):\n",
    "    remover = HTMLTagsRemover()\n",
    "\n",
    "    remover.feed(value)\n",
    "    remover.close()\n",
    "    return remover.get_data()\n",
    "\n",
    "\n",
    "html_string = \"\"\"\n",
    "<div>\n",
    "  <ul>\n",
    "    <li>Apple</li>\n",
    "    <li>Banana</li>\n",
    "    <li>Kiwi</li>\n",
    "  </ul>\n",
    "</div>\n",
    "\"\"\"\n",
    "\n",
    "# Apple\n",
    "# Banana\n",
    "# Kiwi\n",
    "print(remove_html_tags(html_string))"
   ]
  },
  {
   "cell_type": "code",
   "execution_count": 552,
   "id": "68115b2e",
   "metadata": {},
   "outputs": [],
   "source": [
    "text = 'had on tap in north wales, in our hotel on holiday.Had a decent golden straw color &amp; small white head to it which did not stick around too long. Taste was nice with some citrus notes in it, very easy to drink &amp; you could have a few nice &amp; easy.All in all a very nice beer but nothing out of this world!. Would drink it again.'"
   ]
  },
  {
   "cell_type": "code",
   "execution_count": 553,
   "id": "e9de1596",
   "metadata": {},
   "outputs": [
    {
     "name": "stdout",
     "output_type": "stream",
     "text": [
      "had on tap in north wales, in our hotel on holiday.Had a decent golden straw color & small white head to it which did not stick around too long. Taste was nice with some citrus notes in it, very easy to drink & you could have a few nice & easy.All in all a very nice beer but nothing out of this world!. Would drink it again.\n"
     ]
    }
   ],
   "source": [
    "print(remove_html_tags(text))"
   ]
  },
  {
   "cell_type": "markdown",
   "id": "d1d5e439",
   "metadata": {},
   "source": [
    "It works !"
   ]
  },
  {
   "cell_type": "code",
   "execution_count": 554,
   "id": "1036c094",
   "metadata": {},
   "outputs": [],
   "source": [
    "texts = texts.apply(lambda x: remove_html_tags(x))"
   ]
  },
  {
   "cell_type": "code",
   "execution_count": 555,
   "id": "aabb67bd",
   "metadata": {},
   "outputs": [
    {
     "data": {
      "text/plain": [
       "array(['Piney, citric hop aroma with notes of yeast and roast malt.Poured very deep brown with good clarity. Somewhat rocky tan head with very good retention and good lacing.Citric and piney hop flavor with firm bitterness from hops and roast malt. Noticable alcohol flavor, especially in finish. Nice, big malt profile in the background. Complex finish, a mix of hop flavor, lingering bitterness, and alcohol.Medium-bodied. Rich, creamy mouthfeel. Medium-high carbonation. Smooth finish with slight alcohol warmth.Interesting beer. Definitely different than the norm. Excellent overall, but a bit too bitter. Perhaps a little bit of age will bring this beer a bit more into balance.',\n",
       "       'A: The beer is crystal clear yellow in color and has a moderate amount of visible carbonation. It poured with a thin bright white head that consistently left a thin layer of bubbles covering the surface along with some lacing running down the sides of the glass.S: There are light aromas of bready malts in the nose.T: The taste is similar to the smell and has some flavors of bready malts. There are some hints of malty sweetness and a very slight amount of bitterness.M: It feels light- to medium-bodied on the palate and has a moderate amount of carbonation.O: This beer is quite good and drinkable for being non-alcoholic and shares a lot of similarities with a German Pilsener, except that it has less bitterness and no dryness.'],\n",
       "      dtype=object)"
      ]
     },
     "execution_count": 555,
     "metadata": {},
     "output_type": "execute_result"
    }
   ],
   "source": [
    "texts[9:11].values"
   ]
  },
  {
   "cell_type": "markdown",
   "id": "3a5a0fe1",
   "metadata": {},
   "source": [
    "## Textstat"
   ]
  },
  {
   "cell_type": "markdown",
   "id": "f4ac8ac8",
   "metadata": {},
   "source": [
    "We try different complexity metric such as readability. Complex reviews score low reability."
   ]
  },
  {
   "cell_type": "code",
   "execution_count": 676,
   "id": "bd404c0d",
   "metadata": {},
   "outputs": [],
   "source": [
    "read_ease = texts.apply(lambda x: textstat.flesch_reading_ease(x))"
   ]
  },
  {
   "cell_type": "code",
   "execution_count": 677,
   "id": "bfff798b",
   "metadata": {},
   "outputs": [
    {
     "data": {
      "text/plain": [
       "93549      82.14\n",
       "1681507    77.84\n",
       "2337623    70.53\n",
       "Name: text, dtype: float64"
      ]
     },
     "execution_count": 677,
     "metadata": {},
     "output_type": "execute_result"
    }
   ],
   "source": [
    "read_ease.sample(3)"
   ]
  },
  {
   "cell_type": "code",
   "execution_count": 679,
   "id": "2009c84d",
   "metadata": {},
   "outputs": [
    {
     "data": {
      "image/png": "[encoded data removed]",
      "text/plain": [
       "<Figure size 432x288 with 1 Axes>"
      ]
     },
     "metadata": {
      "needs_background": "light"
     },
     "output_type": "display_data"
    }
   ],
   "source": [
    "plt.hist(read_ease.values,bins = 300)\n",
    "plt.show()"
   ]
  },
  {
   "cell_type": "markdown",
   "id": "359a3c18",
   "metadata": {},
   "source": [
    "The readability scaling $R$ is very sparse with negative value. To reduce it we apply the following transformation $$R \\longrightarrow \\log (|max(R)| - R +1)$$\n",
    "This also affects how we interpret the variable. Now the readability variable increases with complexity."
   ]
  },
  {
   "cell_type": "code",
   "execution_count": 680,
   "id": "87f92e00",
   "metadata": {},
   "outputs": [],
   "source": [
    "read_ease = read_ease.apply(lambda x: np.log(abs(read_ease.max()) - x + 1))"
   ]
  },
  {
   "cell_type": "code",
   "execution_count": 681,
   "id": "40d324a4",
   "metadata": {},
   "outputs": [
    {
     "data": {
      "text/plain": [
       "1847533    3.592644\n",
       "1772207    3.598134\n",
       "1831646    3.203559\n",
       "Name: text, dtype: float64"
      ]
     },
     "execution_count": 681,
     "metadata": {},
     "output_type": "execute_result"
    }
   ],
   "source": [
    "read_ease.sample(3)"
   ]
  },
  {
   "cell_type": "code",
   "execution_count": 687,
   "id": "6f000dd5",
   "metadata": {},
   "outputs": [
    {
     "data": {
      "image/png": "[encoded data removed]",
      "text/plain": [
       "<Figure size 432x288 with 1 Axes>"
      ]
     },
     "metadata": {
      "needs_background": "light"
     },
     "output_type": "display_data"
    }
   ],
   "source": [
    "plt.hist(read_ease.values,bins = 300)\n",
    "plt.show()"
   ]
  },
  {
   "cell_type": "code",
   "execution_count": 683,
   "id": "049c722a",
   "metadata": {},
   "outputs": [],
   "source": [
    "# For very complext texts : \n",
    "complex_tests = texts[read_ease > 5]"
   ]
  },
  {
   "cell_type": "code",
   "execution_count": 684,
   "id": "96e67e97",
   "metadata": {},
   "outputs": [
    {
     "data": {
      "text/plain": [
       "array(['appearance- orange to amber brown, with nice white off colored thick head, lots of carbonation as lots of bubbles stream up the glass, mostly clear in bodySmell- very beautiful hops jump of the nose, citrus and piney hops, very great smell just so rich and full of hops you cant wait for your first sip, a heavy weight in the smell department,Taste- starts of with hints of malts and sugary sweetness, then absolutely smashes your palate with tons of hops so much so the finish is even overwhelmingly bitter, a bit of alcohol can definitely be noticed to me in the flavor, lacks a touch of balance in the flavor but does run the whole spectrum as starting a bit of malt, a bit of bitterness then some alcohol, i feel its weekness is the taste could have been more balanced and not one sided on the finishmouthfeel- warming for sure as you can feel the warmth of high alcohol in ur throat and mouth, its pretty thick and heavy bodied but still as touch of lightnessDrinkability- This is not a bad beer overall, but the high alcohol is noticable and the bitterness at parts can be harsh though it mellows out a bit, not one i could see my self drinking more of one in a nite, but a decent night cap, overall a pretty good beer but still better example of the double ipas i believe out there thats for sure, overall id right this good not great,',\n",
       "       'Sampled at the nd Stone Sour Fest today, the sole beer from this brewery at the event, it is a Belgian IPA aged in San Pasqual wine barrels with added brettanomycesA-Golden orange color, somewhat frothy head, some retention, some lacingS-Not much brett, chardonnay, Belgian yeast, weird sugary scents, very faint hops, and citrusT-Funky sweetness, not much tart or sourness, hops flattened out and it became overly malty, pretty boozy, left a nasty dry sensation, not balanced at allM-Sweet, dry, and chalky mouthfeel, medium bodied, not enough carbonation, taste went away fastD-Barely could get through my five ounces or so, ABV seemed high, not smooth, alcohol present in flavorThis was one of my least favorite beers of the day, I was disappointed because Le Freak is a better than decent beer and they pretty much ruined it with the additions to this, did not even taste like an IPA anymore, wished I did not waste a ticket on this after my initial sip'],\n",
       "      dtype=object)"
      ]
     },
     "execution_count": 684,
     "metadata": {},
     "output_type": "execute_result"
    }
   ],
   "source": [
    "# How is tis complex : \n",
    "complex_tests.sample(2).values"
   ]
  },
  {
   "cell_type": "code",
   "execution_count": 685,
   "id": "489eb446",
   "metadata": {},
   "outputs": [],
   "source": [
    "easy_texts = texts[read_ease < 2]"
   ]
  },
  {
   "cell_type": "code",
   "execution_count": 686,
   "id": "45e57392",
   "metadata": {},
   "outputs": [
    {
     "data": {
      "text/plain": [
       "array(['the best one so far. hope to age a few', 'It is what it is'],\n",
       "      dtype=object)"
      ]
     },
     "execution_count": 686,
     "metadata": {},
     "output_type": "execute_result"
    }
   ],
   "source": [
    "easy_texts.sample(2).values"
   ]
  },
  {
   "cell_type": "markdown",
   "id": "045d7cf6",
   "metadata": {},
   "source": [
    "This metric is based on how complex sentences are with the number of words and syllabers but does not focus on vocabulary. We can already see that it performs well based on the examples above. We should combine this feature with a vocabulary complexity based metric."
   ]
  },
  {
   "cell_type": "markdown",
   "id": "ac22d871",
   "metadata": {},
   "source": [
    "### We can try to evaluate complexity with grade year understanding scores of the reviews"
   ]
  },
  {
   "cell_type": "code",
   "execution_count": 688,
   "id": "10f89d06",
   "metadata": {},
   "outputs": [],
   "source": [
    "dale = texts.apply(lambda x: textstat.dale_chall_readability_score(x))"
   ]
  },
  {
   "cell_type": "code",
   "execution_count": 689,
   "id": "9670a1de",
   "metadata": {},
   "outputs": [
    {
     "data": {
      "image/png": "[encoded data removed]",
      "text/plain": [
       "<Figure size 432x288 with 1 Axes>"
      ]
     },
     "metadata": {
      "needs_background": "light"
     },
     "output_type": "display_data"
    }
   ],
   "source": [
    "plt.hist(dale.values,bins = 50)\n",
    "plt.show()"
   ]
  },
  {
   "cell_type": "markdown",
   "id": "0b207d73",
   "metadata": {},
   "source": [
    "Skewed normal distribution like before. What are the reviews that have the best/lowest scores ?"
   ]
  },
  {
   "cell_type": "code",
   "execution_count": 690,
   "id": "2f6ee42a",
   "metadata": {},
   "outputs": [],
   "source": [
    "dale_good = texts[dale > 14]"
   ]
  },
  {
   "cell_type": "code",
   "execution_count": 691,
   "id": "583d97cd",
   "metadata": {},
   "outputs": [
    {
     "data": {
      "text/plain": [
       "array(['Appearance: Pours a slightly hazy honey color with a fluffy head that hangs around for a while but sheets the chalice with a very nice patternSmell: This beer has the Saison aroma down to a tee, with a blend of herbaciousness, sweet candi sugar, mashed banana, grapefruit pith and a hint of funk; it could be a bit funkier, if I had my druthers, but it is fine as isTaste: The initial wheat bread and slightly sweet flavors give way, mid-palate, to the herbacious bitterness and grapefruit pith; after the swallow, the bitterness is mellowed by the sweeter elements, including pineapple and apricot, although the herbacious side hangs around for the durationMouthfeel: Light to medium body with spritzy carbonationDrinkability: Having just consumed a Red Barn, this kissing cousin has a tough precedent to live up to; I think I prefer the layered complexity of the Red Barn, but this is well suited to a warmer summer occasion - too bad we are in December, right now',\n",
       "       ' bottling - best after //Appearance: A beautiful barleywine, with a three fingered head that pancakes atop the the tawny colored liquid; the head leaves squiggles of lacing all across the sides of the chaliceSmell: The alcohol leaves a burning sensation in the nostrils, beneath which lie tones of caramel, stone fruit and pineappleTaste: Dried pineapple and caramel, with a bit of a fruitcake character; by mid-palate, the tropical fruit, hoppy bitterness and alcohol merge together and are joined, after the swallow, by an oaky character; a floral tone emerges in the after-tasteMouthfeel: Full bodied with moderate carbonation; plenty of warmth in the gulletDrinkability: I think the best days for this barleywine are ahead of it as it still has a bit of harsh character that limits the drinkability; otherwise, there is a lot to like and considerable complexity'],\n",
       "      dtype=object)"
      ]
     },
     "execution_count": 691,
     "metadata": {},
     "output_type": "execute_result"
    }
   ],
   "source": [
    "dale_good.sample(2).values"
   ]
  },
  {
   "cell_type": "code",
   "execution_count": 692,
   "id": "462081d1",
   "metadata": {},
   "outputs": [],
   "source": [
    "dale_bad = texts[dale < 6]"
   ]
  },
  {
   "cell_type": "code",
   "execution_count": 693,
   "id": "0658e1b2",
   "metadata": {},
   "outputs": [
    {
     "data": {
      "text/plain": [
       "array([\"One of the best I've ever had. Thank you NEBCO\",\n",
       "       'It is what it is'], dtype=object)"
      ]
     },
     "execution_count": 693,
     "metadata": {},
     "output_type": "execute_result"
    }
   ],
   "source": [
    "dale_bad.sample(2).values"
   ]
  },
  {
   "cell_type": "markdown",
   "id": "94d29945",
   "metadata": {},
   "source": [
    "## Now we try with TextBlob"
   ]
  },
  {
   "cell_type": "code",
   "execution_count": 699,
   "id": "a39f67df",
   "metadata": {},
   "outputs": [],
   "source": [
    "#ctexts = texts.apply(lambda x: TextBlob(x).correct())"
   ]
  },
  {
   "cell_type": "code",
   "execution_count": 701,
   "id": "e9dc4fbf",
   "metadata": {},
   "outputs": [],
   "source": [
    "#ctexts[dale.idxmax()]"
   ]
  },
  {
   "cell_type": "code",
   "execution_count": 702,
   "id": "1cd3a8b9",
   "metadata": {},
   "outputs": [],
   "source": [
    "#ctexts[dale.idxmin()]"
   ]
  },
  {
   "cell_type": "markdown",
   "id": "8d5e45fb",
   "metadata": {},
   "source": [
    "Clearly inefficient"
   ]
  },
  {
   "cell_type": "markdown",
   "id": "a7051ab1",
   "metadata": {},
   "source": [
    "### Combine two complexities"
   ]
  },
  {
   "cell_type": "code",
   "execution_count": 709,
   "id": "e7608bbe",
   "metadata": {},
   "outputs": [],
   "source": [
    "read_ease_norm =  (read_ease - read_ease.mean())/read_ease.std()"
   ]
  },
  {
   "cell_type": "code",
   "execution_count": 710,
   "id": "7d786db0",
   "metadata": {},
   "outputs": [],
   "source": [
    "dale_norm = (dale - dale.mean())/dale.std()"
   ]
  },
  {
   "cell_type": "code",
   "execution_count": 711,
   "id": "d733d74e",
   "metadata": {},
   "outputs": [
    {
     "data": {
      "image/png": "[encoded data removed]",
      "text/plain": [
       "<Figure size 432x288 with 1 Axes>"
      ]
     },
     "metadata": {
      "needs_background": "light"
     },
     "output_type": "display_data"
    }
   ],
   "source": [
    "plt.hist(read_ease_norm.values,bins = 50)\n",
    "plt.show()"
   ]
  },
  {
   "cell_type": "code",
   "execution_count": 712,
   "id": "0991c69e",
   "metadata": {},
   "outputs": [
    {
     "data": {
      "image/png": "[encoded data removed]",
      "text/plain": [
       "<Figure size 432x288 with 1 Axes>"
      ]
     },
     "metadata": {
      "needs_background": "light"
     },
     "output_type": "display_data"
    }
   ],
   "source": [
    "plt.hist(dale_norm.values,bins = 50)\n",
    "plt.show()"
   ]
  },
  {
   "cell_type": "code",
   "execution_count": 716,
   "id": "b178a223",
   "metadata": {},
   "outputs": [],
   "source": [
    "complexity = dale_norm + read_ease_norm"
   ]
  },
  {
   "cell_type": "code",
   "execution_count": 717,
   "id": "31a780a8",
   "metadata": {},
   "outputs": [
    {
     "data": {
      "text/plain": [
       "554354    -0.911961\n",
       "1812376   -1.234639\n",
       "1311971   -1.690129\n",
       "100110     1.704103\n",
       "2480729   -0.621680\n",
       "Name: text, dtype: float64"
      ]
     },
     "execution_count": 717,
     "metadata": {},
     "output_type": "execute_result"
    }
   ],
   "source": [
    "complexity.head()"
   ]
  },
  {
   "cell_type": "code",
   "execution_count": 718,
   "id": "8c61c1f0",
   "metadata": {},
   "outputs": [
    {
     "data": {
      "text/plain": [
       "<AxesSubplot:ylabel='Count'>"
      ]
     },
     "execution_count": 718,
     "metadata": {},
     "output_type": "execute_result"
    },
    {
     "data": {
      "image/png": "[encoded data removed]",
      "text/plain": [
       "<Figure size 432x288 with 1 Axes>"
      ]
     },
     "metadata": {
      "needs_background": "light"
     },
     "output_type": "display_data"
    }
   ],
   "source": [
    "sns.histplot(data=complexity, x=complexity.values, kde=True)"
   ]
  },
  {
   "cell_type": "markdown",
   "id": "2b6cf221",
   "metadata": {},
   "source": [
    "## For the Machine learning algorithm "
   ]
  },
  {
   "cell_type": "code",
   "execution_count": null,
   "id": "1796d3cb",
   "metadata": {},
   "outputs": [],
   "source": [
    "import pandas as pd\n",
    "import numpy as np\n",
    "import re\n",
    "import textstat\n",
    "from textblob import TextBlob\n",
    "import matplotlib.pyplot as plt\n",
    "from langdetect import detect\n",
    "import seaborn as sns\n",
    "from html.parser import HTMLParser"
   ]
  },
  {
   "cell_type": "code",
   "execution_count": 512,
   "id": "c9993004",
   "metadata": {},
   "outputs": [],
   "source": [
    "class HTMLTagsRemover(HTMLParser):\n",
    "    def __init__(self):\n",
    "        super().__init__(convert_charrefs=False)\n",
    "        self.reset()\n",
    "        self.convert_charrefs = True\n",
    "        self.fed = []\n",
    "\n",
    "    def handle_data(self, data):\n",
    "        self.fed.append(data)\n",
    "\n",
    "    def handle_entityref(self, name):\n",
    "        self.fed.append(f'&{name};')\n",
    "\n",
    "    def handle_charref(self, name):\n",
    "        self.fed.append(f'&#{name};')\n",
    "\n",
    "    def get_data(self):\n",
    "        return ''.join(self.fed)\n",
    "\n",
    "\n",
    "def remove_html_tags(value):\n",
    "    remover = HTMLTagsRemover()\n",
    "\n",
    "    remover.feed(value)\n",
    "    remover.close()\n",
    "    return remover.get_data()\n",
    "\n",
    "\n",
    "def clean_reviews(df_old):\n",
    "    df = df_old['text'].copy(deep=True) #not modify input dataframe\n",
    "    \n",
    "    df.dropna(inplace=True) #drop non-reviewers\n",
    "    \n",
    "    df = df[df.apply(lambda x: len(x) > 11)] # drop date reviews DD/MM/YYY\n",
    "    \n",
    "    df = df[df.apply(lambda x: detect(x) == 'en')] # We verify everything is in English\n",
    "    \n",
    "    return df\n",
    "    \n",
    "    \n",
    "\n",
    "def complexity(df_old):\n",
    "    texts = df_old['text'].copy(deep=True) #not modify input dataframe\n",
    "\n",
    "    # Remove numbers ---> Useless for complexity of lexicon\n",
    "    pattern = r'[0-9]'\n",
    "    texts = texts.apply(lambda x : re.sub(pattern, '', x))\n",
    "    \n",
    "    # Remove HTML encoders\n",
    "    texts = texts.apply(lambda x: remove_html_tags(x))\n",
    "    \n",
    "    # Computing the reading-ease complexity\n",
    "    read_ease = texts.apply(lambda x: textstat.flesch_reading_ease(x))\n",
    "    # And scale it properly\n",
    "    read_ease = read_ease.apply(lambda x: np.log(abs(read_ease.max()) - x + 1))\n",
    "    # Then, normalize\n",
    "    read_ease =  (read_ease - read_ease.mean())/read_ease.std()\n",
    "    \n",
    "    # Computing the Dale–Chall readability complexity\n",
    "    dale = texts.apply(lambda x: textstat.dale_chall_readability_score(x))\n",
    "    # Does not need rescaling apparently. But normalized to account to the complexity the same way as read_ease\n",
    "    dale = (dale - dale.mean())/dale.std()\n",
    "    \n",
    "    # Now the complexity\n",
    "    complexity = dale_norm + read_ease_norm\n",
    "    # That we normalize\n",
    "    complexity = (complexity - complexity.mean())/complexity.std()\n",
    "    \n",
    "    return complexity\n"
   ]
  },
  {
   "cell_type": "code",
   "execution_count": null,
   "id": "da37b2cc",
   "metadata": {},
   "outputs": [],
   "source": []
  }
 ],
 "metadata": {
  "kernelspec": {
   "display_name": "Python 3 (ipykernel)",
   "language": "python",
   "name": "python3"
  },
  "language_info": {
   "codemirror_mode": {
    "name": "ipython",
    "version": 3
   },
   "file_extension": ".py",
   "mimetype": "text/x-python",
   "name": "python",
   "nbconvert_exporter": "python",
   "pygments_lexer": "ipython3",
   "version": "3.9.7"
  }
 },
 "nbformat": 4,
 "nbformat_minor": 5
}
